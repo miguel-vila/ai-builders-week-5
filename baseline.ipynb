{
 "cells": [
  {
   "cell_type": "code",
   "execution_count": 1,
   "id": "1a0a47fb-12c5-4028-9265-938b2d914b9e",
   "metadata": {},
   "outputs": [
    {
     "name": "stderr",
     "output_type": "stream",
     "text": [
      "Some weights of BertForSequenceClassification were not initialized from the model checkpoint at google-bert/bert-base-uncased and are newly initialized: ['classifier.bias', 'classifier.weight']\n",
      "You should probably TRAIN this model on a down-stream task to be able to use it for predictions and inference.\n"
     ]
    }
   ],
   "source": [
    "from transformers import (\n",
    "    AutoTokenizer,\n",
    "    DataCollatorWithPadding,\n",
    "    AutoModelForSequenceClassification,\n",
    "    TrainingArguments,\n",
    "    Trainer,\n",
    ")\n",
    "from transformers.utils import logging\n",
    "import evaluate\n",
    "import numpy as np\n",
    "import pandas as pd\n",
    "import torch\n",
    "import os\n",
    "from sklearn.metrics import mean_squared_error\n",
    "\n",
    "os.environ[\"TOKENIZERS_PARALLELISM\"] = \"false\"\n",
    "\n",
    "dataset = pd.read_csv(\"./letterboxd_250movie_reviews_normalized_sampled.csv\")\n",
    "model_path = \"google-bert/bert-base-uncased\"\n",
    "\n",
    "tokenizer = AutoTokenizer.from_pretrained(model_path)\n",
    "\n",
    "id2label = {\n",
    "    0: \"½\",\n",
    "    1: \"★\",\n",
    "    2: \"★½\",\n",
    "    3: \"★★\",\n",
    "    4: \"★★½\",\n",
    "    5: \"★★★\",\n",
    "    6: \"★★★½\",\n",
    "    7: \"★★★★\",\n",
    "    8: \"★★★★½\",\n",
    "    9: \"★★★★★\",\n",
    "}\n",
    "label2id = {\n",
    "    \"½\": 0,\n",
    "    \"★\": 1,\n",
    "    \"★½\": 2,\n",
    "    \"★★\": 3,\n",
    "    \"★★½\": 4,\n",
    "    \"★★★\": 5,\n",
    "    \"★★★½\": 6,\n",
    "    \"★★★★\": 7,\n",
    "    \"★★★★½\": 8,\n",
    "    \"★★★★★\": 9,\n",
    "}\n",
    "model = AutoModelForSequenceClassification.from_pretrained(\n",
    "    model_path,\n",
    "    num_labels=10,\n",
    "    id2label=id2label,\n",
    "    label2id=label2id,\n",
    ")"
   ]
  },
  {
   "cell_type": "code",
   "execution_count": 2,
   "id": "4454d484",
   "metadata": {},
   "outputs": [
    {
     "data": {
      "text/plain": [
       "BertForSequenceClassification(\n",
       "  (bert): BertModel(\n",
       "    (embeddings): BertEmbeddings(\n",
       "      (word_embeddings): Embedding(30522, 768, padding_idx=0)\n",
       "      (position_embeddings): Embedding(512, 768)\n",
       "      (token_type_embeddings): Embedding(2, 768)\n",
       "      (LayerNorm): LayerNorm((768,), eps=1e-12, elementwise_affine=True)\n",
       "      (dropout): Dropout(p=0.1, inplace=False)\n",
       "    )\n",
       "    (encoder): BertEncoder(\n",
       "      (layer): ModuleList(\n",
       "        (0-11): 12 x BertLayer(\n",
       "          (attention): BertAttention(\n",
       "            (self): BertSdpaSelfAttention(\n",
       "              (query): Linear(in_features=768, out_features=768, bias=True)\n",
       "              (key): Linear(in_features=768, out_features=768, bias=True)\n",
       "              (value): Linear(in_features=768, out_features=768, bias=True)\n",
       "              (dropout): Dropout(p=0.1, inplace=False)\n",
       "            )\n",
       "            (output): BertSelfOutput(\n",
       "              (dense): Linear(in_features=768, out_features=768, bias=True)\n",
       "              (LayerNorm): LayerNorm((768,), eps=1e-12, elementwise_affine=True)\n",
       "              (dropout): Dropout(p=0.1, inplace=False)\n",
       "            )\n",
       "          )\n",
       "          (intermediate): BertIntermediate(\n",
       "            (dense): Linear(in_features=768, out_features=3072, bias=True)\n",
       "            (intermediate_act_fn): GELUActivation()\n",
       "          )\n",
       "          (output): BertOutput(\n",
       "            (dense): Linear(in_features=3072, out_features=768, bias=True)\n",
       "            (LayerNorm): LayerNorm((768,), eps=1e-12, elementwise_affine=True)\n",
       "            (dropout): Dropout(p=0.1, inplace=False)\n",
       "          )\n",
       "        )\n",
       "      )\n",
       "    )\n",
       "    (pooler): BertPooler(\n",
       "      (dense): Linear(in_features=768, out_features=768, bias=True)\n",
       "      (activation): Tanh()\n",
       "    )\n",
       "  )\n",
       "  (dropout): Dropout(p=0.1, inplace=False)\n",
       "  (classifier): Linear(in_features=768, out_features=10, bias=True)\n",
       ")"
      ]
     },
     "execution_count": 2,
     "metadata": {},
     "output_type": "execute_result"
    }
   ],
   "source": [
    "model.eval()"
   ]
  },
  {
   "cell_type": "code",
   "execution_count": 3,
   "id": "a0b264bd",
   "metadata": {},
   "outputs": [
    {
     "name": "stdout",
     "output_type": "stream",
     "text": [
      "Tokenized input:\n",
      "Input IDs shape: torch.Size([1, 13])\n",
      "Attention mask shape: torch.Size([1, 13])\n",
      "\n",
      "Raw logits: tensor([[ 0.1682, -0.7521, -0.0206,  0.5124, -0.3735, -0.2041, -0.7227,  0.2623,\n",
      "         -0.4108,  0.1616]])\n",
      "Probabilities: tensor([[0.1255, 0.0500, 0.1039, 0.1770, 0.0730, 0.0865, 0.0515, 0.1378, 0.0703,\n",
      "         0.1246]])\n",
      "Predicted class: 3\n"
     ]
    }
   ],
   "source": [
    "review = \"This movie was fantastic! Great acting and amazing plot.\"\n",
    "inputs = tokenizer(\n",
    "    review, return_tensors=\"pt\", padding=True, truncation=True, max_length=1024\n",
    ")\n",
    "print(\"Tokenized input:\")\n",
    "print(f\"Input IDs shape: {inputs['input_ids'].shape}\")\n",
    "print(f\"Attention mask shape: {inputs['attention_mask'].shape}\")\n",
    "\n",
    "# Make prediction (no gradient calculation needed for inference)\n",
    "with torch.no_grad():\n",
    "    outputs = model(**inputs)\n",
    "    predictions = torch.nn.functional.softmax(outputs.logits, dim=-1)\n",
    "\n",
    "print(f\"\\nRaw logits: {outputs.logits}\")\n",
    "print(f\"Probabilities: {predictions}\")\n",
    "print(f\"Predicted class: {torch.argmax(predictions, dim=-1).item()}\")\n"
   ]
  },
  {
   "cell_type": "code",
   "execution_count": 4,
   "id": "447ea673",
   "metadata": {},
   "outputs": [],
   "source": [
    "test_set = pd.read_csv(\"./data/letterboxd_250movie_reviews_test.csv\")\n",
    "\n",
    "inputs = tokenizer(\n",
    "    test_set[\"text\"].tolist(),\n",
    "    return_tensors=\"pt\",\n",
    "    padding=True,\n",
    "    truncation=True,\n",
    "    max_length=512,\n",
    ")\n",
    "\n",
    "with torch.no_grad():\n",
    "    outputs = model(**inputs)\n",
    "    predictions = torch.nn.functional.softmax(outputs.logits, dim=-1)\n"
   ]
  },
  {
   "cell_type": "code",
   "execution_count": 6,
   "id": "4906073a",
   "metadata": {},
   "outputs": [],
   "source": [
    "predicted_labels = torch.argmax(predictions, dim=1)\n",
    "true_labels = torch.from_numpy(\n",
    "    test_set[\"label\"].to_numpy()\n",
    ")"
   ]
  },
  {
   "cell_type": "code",
   "execution_count": 7,
   "id": "bc2ba8f0",
   "metadata": {},
   "outputs": [
    {
     "name": "stdout",
     "output_type": "stream",
     "text": [
      "Accuracy: 0.085\n",
      "MSE: 11.285\n"
     ]
    }
   ],
   "source": [
    "accuracy = evaluate.load(\"accuracy\")\n",
    "acc_result = accuracy.compute(\n",
    "    predictions=predicted_labels, references=true_labels, normalize=True\n",
    ")\n",
    "print(\"Accuracy:\", acc_result['accuracy'])\n",
    "\n",
    "mse = mean_squared_error(y_true=true_labels, y_pred=predicted_labels)\n",
    "print(\"MSE:\", mse)"
   ]
  }
 ],
 "metadata": {
  "kernelspec": {
   "display_name": "Python 3 (ipykernel)",
   "language": "python",
   "name": "python3"
  },
  "language_info": {
   "codemirror_mode": {
    "name": "ipython",
    "version": 3
   },
   "file_extension": ".py",
   "mimetype": "text/x-python",
   "name": "python",
   "nbconvert_exporter": "python",
   "pygments_lexer": "ipython3",
   "version": "3.13.1"
  }
 },
 "nbformat": 4,
 "nbformat_minor": 5
}
