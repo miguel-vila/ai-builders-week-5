{
 "cells": [
  {
   "cell_type": "code",
   "execution_count": 1,
   "id": "1a0a47fb-12c5-4028-9265-938b2d914b9e",
   "metadata": {},
   "outputs": [
    {
     "name": "stderr",
     "output_type": "stream",
     "text": [
      "Some weights of BertForSequenceClassification were not initialized from the model checkpoint at google-bert/bert-base-uncased and are newly initialized: ['classifier.bias', 'classifier.weight']\n",
      "You should probably TRAIN this model on a down-stream task to be able to use it for predictions and inference.\n"
     ]
    }
   ],
   "source": [
    "from transformers import (\n",
    "    AutoTokenizer,\n",
    "    DataCollatorWithPadding,\n",
    "    AutoModelForSequenceClassification,\n",
    "    TrainingArguments,\n",
    "    Trainer,\n",
    "    set_seed,\n",
    ")\n",
    "from transformers.utils import logging\n",
    "import evaluate\n",
    "import numpy as np\n",
    "import pandas as pd\n",
    "import torch\n",
    "import os\n",
    "import random\n",
    "from sklearn.metrics import mean_squared_error\n",
    "\n",
    "# Set seeds for reproducibility\n",
    "os.environ[\"TOKENIZERS_PARALLELISM\"] = \"false\"\n",
    "random.seed(42)\n",
    "np.random.seed(42)\n",
    "torch.manual_seed(42)\n",
    "if torch.cuda.is_available():\n",
    "    torch.cuda.manual_seed_all(42)\n",
    "set_seed(42)\n",
    "\n",
    "dataset = pd.read_csv(\"./letterboxd_250movie_reviews_normalized_sampled.csv\")\n",
    "model_path = \"google-bert/bert-base-uncased\"\n",
    "\n",
    "tokenizer = AutoTokenizer.from_pretrained(model_path)\n",
    "\n",
    "id2label = {\n",
    "    0: 0.5,\n",
    "    1: 1.0,\n",
    "    2: 1.5,\n",
    "    3: 2.0,\n",
    "    4: 2.5,\n",
    "    5: 3.0,\n",
    "    6: 3.5,\n",
    "    7: 4.0,\n",
    "    8: 4.5,\n",
    "    9: 5.0,\n",
    "}\n",
    "label2id = {\n",
    "    0.5: 1,\n",
    "    1.0: 2,\n",
    "    1.5: 3,\n",
    "    2.0: 4,\n",
    "    2.5: 5,\n",
    "    3.0: 6,\n",
    "    3.5: 7,\n",
    "    4.0: 8,\n",
    "    4.5: 9,\n",
    "    5.0: 10,\n",
    "}\n",
    "model = AutoModelForSequenceClassification.from_pretrained(\n",
    "    model_path,\n",
    "    num_labels=10,\n",
    "    id2label=id2label,\n",
    "    label2id=label2id,\n",
    ")"
   ]
  },
  {
   "cell_type": "code",
   "execution_count": 2,
   "id": "4454d484",
   "metadata": {},
   "outputs": [
    {
     "data": {
      "text/plain": [
       "BertForSequenceClassification(\n",
       "  (bert): BertModel(\n",
       "    (embeddings): BertEmbeddings(\n",
       "      (word_embeddings): Embedding(30522, 768, padding_idx=0)\n",
       "      (position_embeddings): Embedding(512, 768)\n",
       "      (token_type_embeddings): Embedding(2, 768)\n",
       "      (LayerNorm): LayerNorm((768,), eps=1e-12, elementwise_affine=True)\n",
       "      (dropout): Dropout(p=0.1, inplace=False)\n",
       "    )\n",
       "    (encoder): BertEncoder(\n",
       "      (layer): ModuleList(\n",
       "        (0-11): 12 x BertLayer(\n",
       "          (attention): BertAttention(\n",
       "            (self): BertSdpaSelfAttention(\n",
       "              (query): Linear(in_features=768, out_features=768, bias=True)\n",
       "              (key): Linear(in_features=768, out_features=768, bias=True)\n",
       "              (value): Linear(in_features=768, out_features=768, bias=True)\n",
       "              (dropout): Dropout(p=0.1, inplace=False)\n",
       "            )\n",
       "            (output): BertSelfOutput(\n",
       "              (dense): Linear(in_features=768, out_features=768, bias=True)\n",
       "              (LayerNorm): LayerNorm((768,), eps=1e-12, elementwise_affine=True)\n",
       "              (dropout): Dropout(p=0.1, inplace=False)\n",
       "            )\n",
       "          )\n",
       "          (intermediate): BertIntermediate(\n",
       "            (dense): Linear(in_features=768, out_features=3072, bias=True)\n",
       "            (intermediate_act_fn): GELUActivation()\n",
       "          )\n",
       "          (output): BertOutput(\n",
       "            (dense): Linear(in_features=3072, out_features=768, bias=True)\n",
       "            (LayerNorm): LayerNorm((768,), eps=1e-12, elementwise_affine=True)\n",
       "            (dropout): Dropout(p=0.1, inplace=False)\n",
       "          )\n",
       "        )\n",
       "      )\n",
       "    )\n",
       "    (pooler): BertPooler(\n",
       "      (dense): Linear(in_features=768, out_features=768, bias=True)\n",
       "      (activation): Tanh()\n",
       "    )\n",
       "  )\n",
       "  (dropout): Dropout(p=0.1, inplace=False)\n",
       "  (classifier): Linear(in_features=768, out_features=10, bias=True)\n",
       ")"
      ]
     },
     "execution_count": 2,
     "metadata": {},
     "output_type": "execute_result"
    }
   ],
   "source": [
    "model.eval()"
   ]
  },
  {
   "cell_type": "code",
   "execution_count": 3,
   "id": "a0b264bd",
   "metadata": {},
   "outputs": [
    {
     "name": "stdout",
     "output_type": "stream",
     "text": [
      "Tokenized input:\n",
      "Input IDs shape: torch.Size([1, 13])\n",
      "Attention mask shape: torch.Size([1, 13])\n",
      "\n",
      "Raw logits: tensor([[ 0.2907,  0.4949, -0.2167,  0.8362, -0.0250, -0.8328,  0.1779,  0.3750,\n",
      "         -0.5198, -0.3578]])\n",
      "Probabilities: tensor([[0.1169, 0.1433, 0.0704, 0.2016, 0.0852, 0.0380, 0.1044, 0.1271, 0.0520,\n",
      "         0.0611]])\n",
      "Predicted class: 3\n"
     ]
    }
   ],
   "source": [
    "review = \"This movie was fantastic! Great acting and amazing plot.\"\n",
    "inputs = tokenizer(\n",
    "    review, return_tensors=\"pt\", padding=True, truncation=True, max_length=1024\n",
    ")\n",
    "print(\"Tokenized input:\")\n",
    "print(f\"Input IDs shape: {inputs['input_ids'].shape}\")\n",
    "print(f\"Attention mask shape: {inputs['attention_mask'].shape}\")\n",
    "\n",
    "# Make prediction (no gradient calculation needed for inference)\n",
    "with torch.no_grad():\n",
    "    outputs = model(**inputs)\n",
    "    predictions = torch.nn.functional.softmax(outputs.logits, dim=-1)\n",
    "\n",
    "print(f\"\\nRaw logits: {outputs.logits}\")\n",
    "print(f\"Probabilities: {predictions}\")\n",
    "print(f\"Predicted class: {torch.argmax(predictions, dim=-1).item()}\")\n"
   ]
  },
  {
   "cell_type": "code",
   "execution_count": 4,
   "id": "447ea673",
   "metadata": {},
   "outputs": [],
   "source": [
    "test_set = pd.read_csv(\"./data/letterboxd_250movie_reviews_test.csv\")\n",
    "\n",
    "inputs = tokenizer(\n",
    "    test_set[\"text\"].tolist(),\n",
    "    return_tensors=\"pt\",\n",
    "    padding=True,\n",
    "    truncation=True,\n",
    "    max_length=512,\n",
    ")\n",
    "\n",
    "with torch.no_grad():\n",
    "    outputs = model(**inputs)\n",
    "    predictions = torch.nn.functional.softmax(outputs.logits, dim=-1)\n"
   ]
  },
  {
   "cell_type": "code",
   "execution_count": 5,
   "id": "4906073a",
   "metadata": {},
   "outputs": [],
   "source": [
    "# predicted_labels = torch.argmax(predictions, dim=1)\n",
    "true_labels = torch.from_numpy(\n",
    "    test_set[\"rating\"].to_numpy()\n",
    ")"
   ]
  },
  {
   "cell_type": "code",
   "execution_count": 6,
   "id": "bc2ba8f0",
   "metadata": {},
   "outputs": [
    {
     "data": {
      "text/plain": [
       "{'Accuracy': np.float64(0.19), 'AUC': np.float64(0.536)}"
      ]
     },
     "execution_count": 6,
     "metadata": {},
     "output_type": "execute_result"
    }
   ],
   "source": [
    "accuracy = evaluate.load(\"accuracy\")\n",
    "auc_score = evaluate.load(\"roc_auc\", \"multiclass\")\n",
    "\n",
    "def compute_metrics(eval_pred):\n",
    "    # get predictions\n",
    "    predictions, labels = eval_pred\n",
    "    # predict most probable class\n",
    "    predicted_classes = np.argmax(predictions, axis=1)\n",
    "    labels_ids = [label2id[label] for label in labels]\n",
    "    \n",
    "    probabilities = np.exp(predictions) / np.exp(predictions).sum(-1, keepdims=True)\n",
    "    # compute multiclass auc using all class probabilities\n",
    "    auc = np.round(auc_score.compute(prediction_scores=probabilities, references=labels_ids, multi_class=\"ovr\")['roc_auc'],3)\n",
    "    \n",
    "    # compute accuracy\n",
    "    acc = np.round(accuracy.compute(predictions=predicted_classes, references=labels)['accuracy'],3)\n",
    "    \n",
    "    return {\"Accuracy\": acc, \"AUC\": auc}\n",
    "\n",
    "compute_metrics((outputs.logits.numpy(), true_labels.numpy()))\n",
    "# with max 200 samples per rating: {'Accuracy': np.float64(0.1), 'AUC': np.float64(0.536)}"
   ]
  }
 ],
 "metadata": {
  "kernelspec": {
   "display_name": "Python 3 (ipykernel)",
   "language": "python",
   "name": "python3"
  },
  "language_info": {
   "codemirror_mode": {
    "name": "ipython",
    "version": 3
   },
   "file_extension": ".py",
   "mimetype": "text/x-python",
   "name": "python",
   "nbconvert_exporter": "python",
   "pygments_lexer": "ipython3",
   "version": "3.13.1"
  }
 },
 "nbformat": 4,
 "nbformat_minor": 5
}
