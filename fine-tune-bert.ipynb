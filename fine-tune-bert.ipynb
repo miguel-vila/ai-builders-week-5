{
 "cells": [
  {
   "cell_type": "code",
   "execution_count": 8,
   "id": "8035cea0-7544-4e23-b0f3-ba8af92852f5",
   "metadata": {},
   "outputs": [
    {
     "name": "stderr",
     "output_type": "stream",
     "text": [
      "Some weights of BertForSequenceClassification were not initialized from the model checkpoint at google-bert/bert-base-uncased and are newly initialized: ['classifier.bias', 'classifier.weight']\n",
      "You should probably TRAIN this model on a down-stream task to be able to use it for predictions and inference.\n"
     ]
    },
    {
     "data": {
      "application/vnd.jupyter.widget-view+json": {
       "model_id": "c22f4af841f44e40b8825c8d26c3f605",
       "version_major": 2,
       "version_minor": 0
      },
      "text/plain": [
       "Map:   0%|          | 0/1600 [00:00<?, ? examples/s]"
      ]
     },
     "metadata": {},
     "output_type": "display_data"
    },
    {
     "data": {
      "application/vnd.jupyter.widget-view+json": {
       "model_id": "4b7d2135fa8141d6b565bbb5212ffdf3",
       "version_major": 2,
       "version_minor": 0
      },
      "text/plain": [
       "Map:   0%|          | 0/200 [00:00<?, ? examples/s]"
      ]
     },
     "metadata": {},
     "output_type": "display_data"
    },
    {
     "data": {
      "application/vnd.jupyter.widget-view+json": {
       "model_id": "efaaea4592a34a3f86997ea78699e0c7",
       "version_major": 2,
       "version_minor": 0
      },
      "text/plain": [
       "Map:   0%|          | 0/200 [00:00<?, ? examples/s]"
      ]
     },
     "metadata": {},
     "output_type": "display_data"
    }
   ],
   "source": [
    "from datasets import DatasetDict, Dataset\n",
    "from transformers import AutoTokenizer, AutoModelForSequenceClassification, TrainingArguments, Trainer, DataCollatorWithPadding, set_seed\n",
    "import evaluate\n",
    "import numpy as np\n",
    "import os\n",
    "import pandas as pd\n",
    "import random\n",
    "import torch\n",
    "from sklearn.metrics import cohen_kappa_score, mean_absolute_error\n",
    "\n",
    "random.seed(42)\n",
    "np.random.seed(42)\n",
    "torch.manual_seed(42)\n",
    "if torch.cuda.is_available():\n",
    "    torch.cuda.manual_seed_all(42)\n",
    "set_seed(42)\n",
    "\n",
    "os.environ[\"TOKENIZERS_PARALLELISM\"] = \"false\"\n",
    "\n",
    "train_set = pd.read_csv('./data/letterboxd_250movie_reviews_train.csv')\n",
    "val_set  = pd.read_csv('./data/letterboxd_250movie_reviews_val.csv')\n",
    "test_set  = pd.read_csv('./data/letterboxd_250movie_reviews_test.csv')\n",
    "\n",
    "for dset in [train_set, val_set, test_set]:\n",
    "    dset.rename(columns={'review': 'text'}, inplace=True)\n",
    "    dset['label'] = dset['rating'].apply(lambda r: int(round((r - 0.5) / 0.5)))\n",
    "    dset.drop(columns=['rating'], inplace=True)\n",
    "\n",
    "dataset = DatasetDict({\n",
    "    'train': Dataset.from_pandas(train_set),\n",
    "    'validation': Dataset.from_pandas(val_set),\n",
    "    'test': Dataset.from_pandas(test_set)\n",
    "})\n",
    "\n",
    "model_path = \"google-bert/bert-base-uncased\"\n",
    "\n",
    "tokenizer = AutoTokenizer.from_pretrained(model_path)\n",
    "\n",
    "def rating_to_bin(r: float) -> int:\n",
    "    # map 0.5→0, 1.0→1, ..., 5.0→9\n",
    "    return int(round((r - 0.5) / 0.5))\n",
    "\n",
    "def bin_to_rating(b: int) -> float:\n",
    "    return 0.5 + 0.5 * b\n",
    "\n",
    "id2label = {i: bin_to_rating(i) for i in range(10)}\n",
    "label2id = {bin_to_rating(i): i for i in range(10)}\n",
    "model = AutoModelForSequenceClassification.from_pretrained(\n",
    "    model_path,\n",
    "    num_labels=10,\n",
    "    id2label=id2label,\n",
    "    label2id=label2id,\n",
    ")\n",
    "\n",
    "def preprocess_function(examples):\n",
    "    return tokenizer(examples[\"text\"], truncation=True)\n",
    "\n",
    "tokenized_data = dataset.map(preprocess_function, batched=True)"
   ]
  },
  {
   "cell_type": "code",
   "execution_count": 9,
   "id": "8a4c283a",
   "metadata": {},
   "outputs": [],
   "source": [
    "data_collator = DataCollatorWithPadding(tokenizer=tokenizer)"
   ]
  },
  {
   "cell_type": "code",
   "execution_count": 10,
   "id": "0c07ea21",
   "metadata": {},
   "outputs": [],
   "source": [
    "# hyperparameters\n",
    "lr = 2e-4\n",
    "batch_size = 8\n",
    "num_epochs = 10\n",
    "\n",
    "training_args = TrainingArguments(\n",
    "    output_dir=\"bert-letterbox-reviews-classifier_teacher\",\n",
    "    learning_rate=lr,\n",
    "    per_device_train_batch_size=batch_size,\n",
    "    per_device_eval_batch_size=batch_size,\n",
    "    num_train_epochs=num_epochs,\n",
    "    logging_strategy=\"epoch\",\n",
    "    eval_strategy=\"epoch\",\n",
    "    save_strategy=\"epoch\",\n",
    "    load_best_model_at_end=True,\n",
    ")\n"
   ]
  },
  {
   "cell_type": "code",
   "execution_count": 11,
   "id": "b091e80b",
   "metadata": {},
   "outputs": [
    {
     "data": {
      "text/plain": [
       "Dataset({\n",
       "    features: ['original_id', 'text', 'movie', 'label', 'input_ids', 'token_type_ids', 'attention_mask'],\n",
       "    num_rows: 200\n",
       "})"
      ]
     },
     "execution_count": 11,
     "metadata": {},
     "output_type": "execute_result"
    }
   ],
   "source": [
    "tokenized_data[\"validation\"]"
   ]
  },
  {
   "cell_type": "code",
   "execution_count": 12,
   "id": "fe28394c",
   "metadata": {},
   "outputs": [],
   "source": [
    "for name, param in model.base_model.named_parameters():\n",
    "    param.requires_grad = False\n",
    "    \n",
    "for name, param in model.base_model.named_parameters():\n",
    "    if \"pooler\" in name:\n",
    "        param.requires_grad = True\n",
    "\n",
    "# for name, param in list(model.named_parameters())[20:]:\n",
    "#     if \"layer.11.\" in name:\n",
    "#         param.requires_grad = True"
   ]
  },
  {
   "cell_type": "code",
   "execution_count": 13,
   "id": "1a3a46ee",
   "metadata": {},
   "outputs": [],
   "source": [
    "# load metrics\n",
    "accuracy = evaluate.load(\"accuracy\")\n",
    "auc_score = evaluate.load(\"roc_auc\", \"multiclass\")\n",
    "\n",
    "def compute_metrics(eval_pred):\n",
    "    # get probabilities and true_ratings\n",
    "    probabilities, true_ratings = eval_pred\n",
    "    # predict most probable class\n",
    "    predicted_classes = np.argmax(probabilities, axis=1)\n",
    "    # debug distribution of predicted classes:\n",
    "    print(\"predicted_classes distribution:\", np.bincount(predicted_classes))\n",
    "    true_classes = [rating_to_bin(r) for r in true_ratings]\n",
    "    print(f\"predicted_classes.head: {predicted_classes[:15]}\")\n",
    "    print(f\"true_classes.head: {true_classes[:15]}\")\n",
    "    # compute accuracy\n",
    "    acc = np.round(accuracy.compute(predictions=predicted_classes, references=true_classes)['accuracy'],3)\n",
    "    \n",
    "    # Map to half-star ratings for MAE\n",
    "    pred_ratings = np.array([bin_to_rating(int(c)) for c in predicted_classes])\n",
    "\n",
    "    qwk = cohen_kappa_score(y1=true_classes, y2=predicted_classes, weights=\"quadratic\")\n",
    "    print(f'true_ratings.head: {true_ratings[:15]}')\n",
    "    print(f'pred_ratings.head: {pred_ratings[:15]}')\n",
    "    mae = mean_absolute_error(true_ratings, pred_ratings)\n",
    "\n",
    "    return {\"Accuracy\": acc, \"QWK\": qwk, \"MAE\": mae}\n",
    "    \n",
    "    return {\"Accuracy\": acc, \"AUC\": auc}"
   ]
  },
  {
   "cell_type": "code",
   "execution_count": 14,
   "id": "d278389b",
   "metadata": {},
   "outputs": [
    {
     "name": "stderr",
     "output_type": "stream",
     "text": [
      "/var/folders/6g/d16gbw5x5z9fk0rmvxw5z5q80000gn/T/ipykernel_24845/2642840178.py:1: FutureWarning: `tokenizer` is deprecated and will be removed in version 5.0.0 for `Trainer.__init__`. Use `processing_class` instead.\n",
      "  trainer = Trainer(\n",
      "/Users/miguelvilagonzalez/repos/ai-builders-week-5/.venv/lib/python3.13/site-packages/torch/utils/data/dataloader.py:684: UserWarning: 'pin_memory' argument is set as true but not supported on MPS now, then device pinned memory won't be used.\n",
      "  warnings.warn(warn_msg)\n"
     ]
    },
    {
     "data": {
      "text/html": [
       "\n",
       "    <div>\n",
       "      \n",
       "      <progress value='2000' max='2000' style='width:300px; height:20px; vertical-align: middle;'></progress>\n",
       "      [2000/2000 12:58, Epoch 10/10]\n",
       "    </div>\n",
       "    <table border=\"1\" class=\"dataframe\">\n",
       "  <thead>\n",
       " <tr style=\"text-align: left;\">\n",
       "      <th>Epoch</th>\n",
       "      <th>Training Loss</th>\n",
       "      <th>Validation Loss</th>\n",
       "      <th>Accuracy</th>\n",
       "      <th>Qwk</th>\n",
       "      <th>Mae</th>\n",
       "    </tr>\n",
       "  </thead>\n",
       "  <tbody>\n",
       "    <tr>\n",
       "      <td>1</td>\n",
       "      <td>2.294200</td>\n",
       "      <td>2.187266</td>\n",
       "      <td>0.030000</td>\n",
       "      <td>0.263749</td>\n",
       "      <td>2.312500</td>\n",
       "    </tr>\n",
       "    <tr>\n",
       "      <td>2</td>\n",
       "      <td>2.128300</td>\n",
       "      <td>2.103565</td>\n",
       "      <td>0.150000</td>\n",
       "      <td>0.359657</td>\n",
       "      <td>2.317500</td>\n",
       "    </tr>\n",
       "    <tr>\n",
       "      <td>3</td>\n",
       "      <td>2.037400</td>\n",
       "      <td>2.073277</td>\n",
       "      <td>0.085000</td>\n",
       "      <td>0.384060</td>\n",
       "      <td>2.300000</td>\n",
       "    </tr>\n",
       "    <tr>\n",
       "      <td>4</td>\n",
       "      <td>1.960200</td>\n",
       "      <td>2.044806</td>\n",
       "      <td>0.075000</td>\n",
       "      <td>0.444357</td>\n",
       "      <td>2.085000</td>\n",
       "    </tr>\n",
       "    <tr>\n",
       "      <td>5</td>\n",
       "      <td>1.905200</td>\n",
       "      <td>2.072948</td>\n",
       "      <td>0.110000</td>\n",
       "      <td>0.488711</td>\n",
       "      <td>1.990000</td>\n",
       "    </tr>\n",
       "    <tr>\n",
       "      <td>6</td>\n",
       "      <td>1.886300</td>\n",
       "      <td>2.053073</td>\n",
       "      <td>0.100000</td>\n",
       "      <td>0.469550</td>\n",
       "      <td>2.040000</td>\n",
       "    </tr>\n",
       "    <tr>\n",
       "      <td>7</td>\n",
       "      <td>1.842800</td>\n",
       "      <td>2.036499</td>\n",
       "      <td>0.070000</td>\n",
       "      <td>0.461849</td>\n",
       "      <td>2.165000</td>\n",
       "    </tr>\n",
       "    <tr>\n",
       "      <td>8</td>\n",
       "      <td>1.826800</td>\n",
       "      <td>2.021681</td>\n",
       "      <td>0.100000</td>\n",
       "      <td>0.472664</td>\n",
       "      <td>2.082500</td>\n",
       "    </tr>\n",
       "    <tr>\n",
       "      <td>9</td>\n",
       "      <td>1.808800</td>\n",
       "      <td>2.015529</td>\n",
       "      <td>0.090000</td>\n",
       "      <td>0.475336</td>\n",
       "      <td>2.067500</td>\n",
       "    </tr>\n",
       "    <tr>\n",
       "      <td>10</td>\n",
       "      <td>1.791800</td>\n",
       "      <td>2.014541</td>\n",
       "      <td>0.085000</td>\n",
       "      <td>0.471845</td>\n",
       "      <td>2.075000</td>\n",
       "    </tr>\n",
       "  </tbody>\n",
       "</table><p>"
      ],
      "text/plain": [
       "<IPython.core.display.HTML object>"
      ]
     },
     "metadata": {},
     "output_type": "display_data"
    },
    {
     "name": "stdout",
     "output_type": "stream",
     "text": [
      "predicted_classes distribution: [ 22   0   3   0 100   0   0  47   0  28]\n",
      "predicted_classes.head: [9 4 7 7 4 0 9 7 4 9 7 4 7 7 9]\n",
      "true_classes.head: [15, 3, 7, 15, 17, 7, 13, 1, 9, 15, 17, 3, 11, 9, 13]\n",
      "true_ratings.head: [8 2 4 8 9 4 7 1 5 8 9 2 6 5 7]\n",
      "pred_ratings.head: [5.  2.5 4.  4.  2.5 0.5 5.  4.  2.5 5.  4.  2.5 4.  4.  5. ]\n"
     ]
    },
    {
     "name": "stderr",
     "output_type": "stream",
     "text": [
      "/Users/miguelvilagonzalez/repos/ai-builders-week-5/.venv/lib/python3.13/site-packages/torch/utils/data/dataloader.py:684: UserWarning: 'pin_memory' argument is set as true but not supported on MPS now, then device pinned memory won't be used.\n",
      "  warnings.warn(warn_msg)\n"
     ]
    },
    {
     "name": "stdout",
     "output_type": "stream",
     "text": [
      "predicted_classes distribution: [15 92  1  0  0 25  8  0 11 48]\n",
      "predicted_classes.head: [9 9 9 9 1 0 9 1 1 9 6 1 8 1 9]\n",
      "true_classes.head: [15, 3, 7, 15, 17, 7, 13, 1, 9, 15, 17, 3, 11, 9, 13]\n",
      "true_ratings.head: [8 2 4 8 9 4 7 1 5 8 9 2 6 5 7]\n",
      "pred_ratings.head: [5.  5.  5.  5.  1.  0.5 5.  1.  1.  5.  3.5 1.  4.5 1.  5. ]\n"
     ]
    },
    {
     "name": "stderr",
     "output_type": "stream",
     "text": [
      "/Users/miguelvilagonzalez/repos/ai-builders-week-5/.venv/lib/python3.13/site-packages/torch/utils/data/dataloader.py:684: UserWarning: 'pin_memory' argument is set as true but not supported on MPS now, then device pinned memory won't be used.\n",
      "  warnings.warn(warn_msg)\n"
     ]
    },
    {
     "name": "stdout",
     "output_type": "stream",
     "text": [
      "predicted_classes distribution: [58 18 22 13  1 26  7 19  0 36]\n",
      "predicted_classes.head: [9 4 7 7 0 0 9 3 2 9 6 0 0 5 9]\n",
      "true_classes.head: [15, 3, 7, 15, 17, 7, 13, 1, 9, 15, 17, 3, 11, 9, 13]\n",
      "true_ratings.head: [8 2 4 8 9 4 7 1 5 8 9 2 6 5 7]\n",
      "pred_ratings.head: [5.  2.5 4.  4.  0.5 0.5 5.  2.  1.5 5.  3.5 0.5 0.5 3.  5. ]\n"
     ]
    },
    {
     "name": "stderr",
     "output_type": "stream",
     "text": [
      "/Users/miguelvilagonzalez/repos/ai-builders-week-5/.venv/lib/python3.13/site-packages/torch/utils/data/dataloader.py:684: UserWarning: 'pin_memory' argument is set as true but not supported on MPS now, then device pinned memory won't be used.\n",
      "  warnings.warn(warn_msg)\n"
     ]
    },
    {
     "name": "stdout",
     "output_type": "stream",
     "text": [
      "predicted_classes distribution: [ 4 25 33 19 35  8 28  7 14 27]\n",
      "predicted_classes.head: [9 4 7 7 2 2 8 2 2 9 6 3 8 4 9]\n",
      "true_classes.head: [15, 3, 7, 15, 17, 7, 13, 1, 9, 15, 17, 3, 11, 9, 13]\n",
      "true_ratings.head: [8 2 4 8 9 4 7 1 5 8 9 2 6 5 7]\n",
      "pred_ratings.head: [5.  2.5 4.  4.  1.5 1.5 4.5 1.5 1.5 5.  3.5 2.  4.5 2.5 5. ]\n"
     ]
    },
    {
     "name": "stderr",
     "output_type": "stream",
     "text": [
      "/Users/miguelvilagonzalez/repos/ai-builders-week-5/.venv/lib/python3.13/site-packages/torch/utils/data/dataloader.py:684: UserWarning: 'pin_memory' argument is set as true but not supported on MPS now, then device pinned memory won't be used.\n",
      "  warnings.warn(warn_msg)\n"
     ]
    },
    {
     "name": "stdout",
     "output_type": "stream",
     "text": [
      "predicted_classes distribution: [27 22 15  3 11 31  1 22 38 30]\n",
      "predicted_classes.head: [9 4 7 7 1 8 8 8 5 9 8 0 8 8 9]\n",
      "true_classes.head: [15, 3, 7, 15, 17, 7, 13, 1, 9, 15, 17, 3, 11, 9, 13]\n",
      "true_ratings.head: [8 2 4 8 9 4 7 1 5 8 9 2 6 5 7]\n",
      "pred_ratings.head: [5.  2.5 4.  4.  1.  4.5 4.5 4.5 3.  5.  4.5 0.5 4.5 4.5 5. ]\n"
     ]
    },
    {
     "name": "stderr",
     "output_type": "stream",
     "text": [
      "/Users/miguelvilagonzalez/repos/ai-builders-week-5/.venv/lib/python3.13/site-packages/torch/utils/data/dataloader.py:684: UserWarning: 'pin_memory' argument is set as true but not supported on MPS now, then device pinned memory won't be used.\n",
      "  warnings.warn(warn_msg)\n"
     ]
    },
    {
     "name": "stdout",
     "output_type": "stream",
     "text": [
      "predicted_classes distribution: [18  8 38 13 25 21  9 32  2 34]\n",
      "predicted_classes.head: [9 4 7 7 2 9 9 3 2 9 6 2 2 4 9]\n",
      "true_classes.head: [15, 3, 7, 15, 17, 7, 13, 1, 9, 15, 17, 3, 11, 9, 13]\n",
      "true_ratings.head: [8 2 4 8 9 4 7 1 5 8 9 2 6 5 7]\n",
      "pred_ratings.head: [5.  2.5 4.  4.  1.5 5.  5.  2.  1.5 5.  3.5 1.5 1.5 2.5 5. ]\n"
     ]
    },
    {
     "name": "stderr",
     "output_type": "stream",
     "text": [
      "/Users/miguelvilagonzalez/repos/ai-builders-week-5/.venv/lib/python3.13/site-packages/torch/utils/data/dataloader.py:684: UserWarning: 'pin_memory' argument is set as true but not supported on MPS now, then device pinned memory won't be used.\n",
      "  warnings.warn(warn_msg)\n"
     ]
    },
    {
     "name": "stdout",
     "output_type": "stream",
     "text": [
      "predicted_classes distribution: [44  7  8 40 18 13  2 24 24 20]\n",
      "predicted_classes.head: [1 4 7 7 2 0 8 3 2 9 8 0 8 4 9]\n",
      "true_classes.head: [15, 3, 7, 15, 17, 7, 13, 1, 9, 15, 17, 3, 11, 9, 13]\n",
      "true_ratings.head: [8 2 4 8 9 4 7 1 5 8 9 2 6 5 7]\n",
      "pred_ratings.head: [1.  2.5 4.  4.  1.5 0.5 4.5 2.  1.5 5.  4.5 0.5 4.5 2.5 5. ]\n"
     ]
    },
    {
     "name": "stderr",
     "output_type": "stream",
     "text": [
      "/Users/miguelvilagonzalez/repos/ai-builders-week-5/.venv/lib/python3.13/site-packages/torch/utils/data/dataloader.py:684: UserWarning: 'pin_memory' argument is set as true but not supported on MPS now, then device pinned memory won't be used.\n",
      "  warnings.warn(warn_msg)\n"
     ]
    },
    {
     "name": "stdout",
     "output_type": "stream",
     "text": [
      "predicted_classes distribution: [32 12  5 31 22 26 22 17 12 21]\n",
      "predicted_classes.head: [1 4 7 7 5 0 8 3 4 9 6 0 8 4 9]\n",
      "true_classes.head: [15, 3, 7, 15, 17, 7, 13, 1, 9, 15, 17, 3, 11, 9, 13]\n",
      "true_ratings.head: [8 2 4 8 9 4 7 1 5 8 9 2 6 5 7]\n",
      "pred_ratings.head: [1.  2.5 4.  4.  3.  0.5 4.5 2.  2.5 5.  3.5 0.5 4.5 2.5 5. ]\n"
     ]
    },
    {
     "name": "stderr",
     "output_type": "stream",
     "text": [
      "/Users/miguelvilagonzalez/repos/ai-builders-week-5/.venv/lib/python3.13/site-packages/torch/utils/data/dataloader.py:684: UserWarning: 'pin_memory' argument is set as true but not supported on MPS now, then device pinned memory won't be used.\n",
      "  warnings.warn(warn_msg)\n"
     ]
    },
    {
     "name": "stdout",
     "output_type": "stream",
     "text": [
      "predicted_classes distribution: [29 15 11 20 26 28 15 18 16 22]\n",
      "predicted_classes.head: [1 4 7 7 5 8 8 3 4 9 6 0 8 4 9]\n",
      "true_classes.head: [15, 3, 7, 15, 17, 7, 13, 1, 9, 15, 17, 3, 11, 9, 13]\n",
      "true_ratings.head: [8 2 4 8 9 4 7 1 5 8 9 2 6 5 7]\n",
      "pred_ratings.head: [1.  2.5 4.  4.  3.  4.5 4.5 2.  2.5 5.  3.5 0.5 4.5 2.5 5. ]\n"
     ]
    },
    {
     "name": "stderr",
     "output_type": "stream",
     "text": [
      "/Users/miguelvilagonzalez/repos/ai-builders-week-5/.venv/lib/python3.13/site-packages/torch/utils/data/dataloader.py:684: UserWarning: 'pin_memory' argument is set as true but not supported on MPS now, then device pinned memory won't be used.\n",
      "  warnings.warn(warn_msg)\n"
     ]
    },
    {
     "name": "stdout",
     "output_type": "stream",
     "text": [
      "predicted_classes distribution: [29 14 12 22 24 28 18 14 17 22]\n",
      "predicted_classes.head: [1 4 7 7 5 8 8 3 2 9 6 0 8 4 9]\n",
      "true_classes.head: [15, 3, 7, 15, 17, 7, 13, 1, 9, 15, 17, 3, 11, 9, 13]\n",
      "true_ratings.head: [8 2 4 8 9 4 7 1 5 8 9 2 6 5 7]\n",
      "pred_ratings.head: [1.  2.5 4.  4.  3.  4.5 4.5 2.  1.5 5.  3.5 0.5 4.5 2.5 5. ]\n"
     ]
    }
   ],
   "source": [
    "trainer = Trainer(\n",
    "    model=model,\n",
    "    args=training_args,\n",
    "    train_dataset=tokenized_data[\"train\"],\n",
    "    eval_dataset=tokenized_data[\"validation\"],\n",
    "    tokenizer=tokenizer,\n",
    "    data_collator=data_collator,\n",
    "    compute_metrics=compute_metrics,\n",
    ")\n",
    "\n",
    "training_output = trainer.train()"
   ]
  },
  {
   "cell_type": "code",
   "execution_count": 15,
   "id": "6b4b70c0",
   "metadata": {},
   "outputs": [
    {
     "name": "stderr",
     "output_type": "stream",
     "text": [
      "/Users/miguelvilagonzalez/repos/ai-builders-week-5/.venv/lib/python3.13/site-packages/torch/utils/data/dataloader.py:684: UserWarning: 'pin_memory' argument is set as true but not supported on MPS now, then device pinned memory won't be used.\n",
      "  warnings.warn(warn_msg)\n"
     ]
    },
    {
     "data": {
      "text/html": [],
      "text/plain": [
       "<IPython.core.display.HTML object>"
      ]
     },
     "metadata": {},
     "output_type": "display_data"
    },
    {
     "name": "stdout",
     "output_type": "stream",
     "text": [
      "predicted_classes distribution: [30 29  5 14 15 21 24 12  9 41]\n",
      "predicted_classes.head: [0 2 1 1 9 4 0 3 5 6 9 1 9 0 0]\n",
      "true_classes.head: [7, 3, 1, -1, 13, 7, 17, 11, 13, 9, 3, 5, -1, 7, -1]\n",
      "true_ratings.head: [4 2 1 0 7 4 9 6 7 5 2 3 0 4 0]\n",
      "pred_ratings.head: [0.5 1.5 1.  1.  5.  2.5 0.5 2.  3.  3.5 5.  1.  5.  0.5 0.5]\n",
      "predicted_classes distribution: [30 29  5 14 15 21 24 12  9 41]\n",
      "predicted_classes.head: [0 2 1 1 9 4 0 3 5 6 9 1 9 0 0]\n",
      "true_classes.head: [7, 3, 1, -1, 13, 7, 17, 11, 13, 9, 3, 5, -1, 7, -1]\n",
      "true_ratings.head: [4 2 1 0 7 4 9 6 7 5 2 3 0 4 0]\n",
      "pred_ratings.head: [0.5 1.5 1.  1.  5.  2.5 0.5 2.  3.  3.5 5.  1.  5.  0.5 0.5]\n",
      "{'Accuracy': np.float64(0.085), 'QWK': 0.4547498964340433, 'MAE': 2.2725}\n"
     ]
    }
   ],
   "source": [
    "# apply model to validation dataset\n",
    "predictions = trainer.predict(tokenized_data[\"test\"])\n",
    "\n",
    "# Extract the logits and labels from the predictions object\n",
    "logits = predictions.predictions\n",
    "labels = predictions.label_ids\n",
    "\n",
    "# Use your compute_metrics function\n",
    "metrics = compute_metrics((logits, labels))\n",
    "\n",
    "# pool layer unfrozen\n",
    "# 200 per rating baseline: {'Accuracy': np.float64(0.1), 'AUC': np.float64(0.536)}\n",
    "# 200 per rating, {'Accuracy': np.float64(0.265), 'AUC': np.float64(0.738)} lr = 2e-4 batch_size = 16 num_epochs = 10\n",
    "# 300 per rating baseline: {'Accuracy': np.float64(0.114), 'AUC': np.float64(0.526)}\n",
    "# 300 per rating, {'Accuracy': np.float64(0.193), 'AUC': np.float64(0.716)} lr = 2e-4 batch_size = 16 num_epochs = 10\n",
    "# 300 per rating, {'Accuracy': np.float64(0.200), 'AUC': np.float64(0.716)} lr = 2e-4 batch_size = 8 num_epochs = 10\n",
    "# 300 per rating, {'Accuracy': np.float64(0.154), 'AUC': np.float64(0.663)} lr = 2e-5 batch_size = 8 num_epochs = 10\n",
    "# 300 per rating, {'Accuracy': np.float64(0.214), 'AUC': np.float64(0.716)} lr = 2e-4 batch_size = 8 num_epochs = 20\n",
    "# 200 per rating, {'Accuracy': np.float64(0.265), 'AUC': np.float64(0.745)} lr = 2e-4 batch_size = 8 num_epochs = 20\n",
    "# 200 per rating, {'Accuracy': np.float64(0.275), 'AUC': np.float64(0.745)} lr = 2e-4 batch_size = 16 num_epochs = 20\n",
    "# 200 per rating, {'Accuracy': np.float64(0.180), 'AUC': np.float64(0.677)} lr = 2e-5 batch_size = 16 num_epochs = 20\n",
    "print(metrics)\n",
    "\n",
    "# also layer 11 unfrozen\n",
    "# 200 per rating, {'Accuracy': np.float64(0.23), 'AUC': np.float64(0.776)} lr = 2e-4 batch_size = 8 num_epochs = 10\n",
    "# 200 per rating, {'Accuracy': np.float64(0.31), 'AUC': np.float64(0.785)} lr = 2e-4 batch_size = 16 num_epochs = 10\n"
   ]
  },
  {
   "cell_type": "code",
   "execution_count": 16,
   "id": "217f51a0",
   "metadata": {},
   "outputs": [
    {
     "name": "stderr",
     "output_type": "stream",
     "text": [
      "/Users/miguelvilagonzalez/repos/ai-builders-week-5/.venv/lib/python3.13/site-packages/torch/utils/data/dataloader.py:684: UserWarning: 'pin_memory' argument is set as true but not supported on MPS now, then device pinned memory won't be used.\n",
      "  warnings.warn(warn_msg)\n"
     ]
    },
    {
     "data": {
      "text/html": [],
      "text/plain": [
       "<IPython.core.display.HTML object>"
      ]
     },
     "metadata": {},
     "output_type": "display_data"
    },
    {
     "name": "stdout",
     "output_type": "stream",
     "text": [
      "a whole movie about coming down from apex mountain. Safdie's worthy, long-overdue follow-up to Lenny Cooke -> 5.0\n"
     ]
    },
    {
     "data": {
      "text/html": [],
      "text/plain": [
       "<IPython.core.display.HTML object>"
      ]
     },
     "metadata": {},
     "output_type": "display_data"
    },
    {
     "name": "stdout",
     "output_type": "stream",
     "text": [
      "the rock is evolving. he is now the boulder -> 5.0\n"
     ]
    },
    {
     "data": {
      "text/html": [],
      "text/plain": [
       "<IPython.core.display.HTML object>"
      ]
     },
     "metadata": {},
     "output_type": "display_data"
    },
    {
     "name": "stdout",
     "output_type": "stream",
     "text": [
      "That guy with the long hair was so unnecessarily rude. -> 0.5\n"
     ]
    },
    {
     "data": {
      "text/html": [],
      "text/plain": [
       "<IPython.core.display.HTML object>"
      ]
     },
     "metadata": {},
     "output_type": "display_data"
    },
    {
     "name": "stdout",
     "output_type": "stream",
     "text": [
      "utterly sauceless -> 0.5\n"
     ]
    },
    {
     "data": {
      "text/html": [],
      "text/plain": [
       "<IPython.core.display.HTML object>"
      ]
     },
     "metadata": {},
     "output_type": "display_data"
    },
    {
     "name": "stdout",
     "output_type": "stream",
     "text": [
      "decent as a (very) muted romance, much louder and more effective as an argument for physical archival media. -> 1.5\n"
     ]
    },
    {
     "data": {
      "text/html": [],
      "text/plain": [
       "<IPython.core.display.HTML object>"
      ]
     },
     "metadata": {},
     "output_type": "display_data"
    },
    {
     "name": "stdout",
     "output_type": "stream",
     "text": [
      "That was incredibly upsetting but I knew it would be -> 5.0\n"
     ]
    },
    {
     "data": {
      "text/html": [],
      "text/plain": [
       "<IPython.core.display.HTML object>"
      ]
     },
     "metadata": {},
     "output_type": "display_data"
    },
    {
     "name": "stdout",
     "output_type": "stream",
     "text": [
      "you’re not depressed, you just love new england -> 4.0\n"
     ]
    }
   ],
   "source": [
    "import torch\n",
    "def predict_single(review: str):\n",
    "    inputs = tokenizer(review, return_tensors=\"pt\", truncation=True, padding=True)\n",
    "    with torch.no_grad():\n",
    "        outputs = trainer.predict(Dataset.from_dict(inputs))\n",
    "        predicted_class_id = outputs.predictions.argmax().item()\n",
    "\n",
    "        return model.config.id2label[predicted_class_id]\n",
    "\n",
    "def predict_and_print(review: str):\n",
    "    prediction = predict_single(review)\n",
    "    print(f\"{review} -> {prediction}\")\n",
    "predict_and_print(\"a whole movie about coming down from apex mountain. Safdie's worthy, long-overdue follow-up to Lenny Cooke\")\n",
    "predict_and_print(\"the rock is evolving. he is now the boulder\")\n",
    "predict_and_print(\"That guy with the long hair was so unnecessarily rude.\")\n",
    "predict_and_print(\"utterly sauceless\")\n",
    "predict_and_print(\"decent as a (very) muted romance, much louder and more effective as an argument for physical archival media.\")\n",
    "predict_and_print(\"That was incredibly upsetting but I knew it would be\")\n",
    "predict_and_print(\"you’re not depressed, you just love new england\")"
   ]
  }
 ],
 "metadata": {
  "kernelspec": {
   "display_name": "Python 3 (ipykernel)",
   "language": "python",
   "name": "python3"
  },
  "language_info": {
   "codemirror_mode": {
    "name": "ipython",
    "version": 3
   },
   "file_extension": ".py",
   "mimetype": "text/x-python",
   "name": "python",
   "nbconvert_exporter": "python",
   "pygments_lexer": "ipython3",
   "version": "3.13.1"
  }
 },
 "nbformat": 4,
 "nbformat_minor": 5
}
