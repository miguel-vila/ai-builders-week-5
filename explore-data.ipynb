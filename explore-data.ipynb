{
 "cells": [
  {
   "cell_type": "code",
   "execution_count": 1,
   "id": "313f7147-4436-4b9b-8c80-a79040c547b0",
   "metadata": {},
   "outputs": [
    {
     "name": "stderr",
     "output_type": "stream",
     "text": [
      "/var/folders/6g/d16gbw5x5z9fk0rmvxw5z5q80000gn/T/ipykernel_8476/4114284106.py:6: UserWarning: Boolean Series key will be reindexed to match DataFrame index.\n",
      "  valid_reviews = reviews_raw[reviews_raw['Rating'].notna()][reviews_raw['Status'] == 'Watched'][~reviews_raw['Review'].isna()].sample(frac=1, random_state=42)\n",
      "/var/folders/6g/d16gbw5x5z9fk0rmvxw5z5q80000gn/T/ipykernel_8476/4114284106.py:6: UserWarning: Boolean Series key will be reindexed to match DataFrame index.\n",
      "  valid_reviews = reviews_raw[reviews_raw['Rating'].notna()][reviews_raw['Status'] == 'Watched'][~reviews_raw['Review'].isna()].sample(frac=1, random_state=42)\n"
     ]
    },
    {
     "data": {
      "text/plain": [
       "Unnamed: 0    61096\n",
       "Review        61096\n",
       "Rating        61096\n",
       "Date          61096\n",
       "Status        61096\n",
       "Movie         61096\n",
       "dtype: int64"
      ]
     },
     "execution_count": 1,
     "metadata": {},
     "output_type": "execute_result"
    }
   ],
   "source": [
    "import pandas as pd\n",
    "\n",
    "reviews_raw: pd.DataFrame = pd.read_csv(\"./data/letterboxd_250movie_reviews.csv\")\n",
    "\n",
    "reviews_raw.head()\n",
    "valid_reviews = reviews_raw[reviews_raw['Rating'].notna()][reviews_raw['Status'] == 'Watched'][~reviews_raw['Review'].isna()].sample(frac=1, random_state=42)\n",
    "valid_reviews.count()"
   ]
  },
  {
   "cell_type": "code",
   "execution_count": 2,
   "id": "22a5e5ac",
   "metadata": {},
   "outputs": [
    {
     "data": {
      "text/html": [
       "<div>\n",
       "<style scoped>\n",
       "    .dataframe tbody tr th:only-of-type {\n",
       "        vertical-align: middle;\n",
       "    }\n",
       "\n",
       "    .dataframe tbody tr th {\n",
       "        vertical-align: top;\n",
       "    }\n",
       "\n",
       "    .dataframe thead th {\n",
       "        text-align: right;\n",
       "    }\n",
       "</style>\n",
       "<table border=\"1\" class=\"dataframe\">\n",
       "  <thead>\n",
       "    <tr style=\"text-align: right;\">\n",
       "      <th></th>\n",
       "      <th>Unnamed: 0</th>\n",
       "      <th>Review</th>\n",
       "      <th>Rating</th>\n",
       "      <th>Date</th>\n",
       "      <th>Status</th>\n",
       "      <th>Movie</th>\n",
       "    </tr>\n",
       "  </thead>\n",
       "  <tbody>\n",
       "    <tr>\n",
       "      <th>43340</th>\n",
       "      <td>43340</td>\n",
       "      <td>A scathing political thriller from the great C...</td>\n",
       "      <td>★★★★★</td>\n",
       "      <td>19 Jul 2022</td>\n",
       "      <td>Watched</td>\n",
       "      <td>z</td>\n",
       "    </tr>\n",
       "    <tr>\n",
       "      <th>29334</th>\n",
       "      <td>29334</td>\n",
       "      <td>It's impossible to not respect how kids of a c...</td>\n",
       "      <td>★★★★½</td>\n",
       "      <td>04 Aug 2021</td>\n",
       "      <td>Watched</td>\n",
       "      <td>where-is-the-friends-house</td>\n",
       "    </tr>\n",
       "    <tr>\n",
       "      <th>72718</th>\n",
       "      <td>72718</td>\n",
       "      <td>\"There is only one golden rule: \"Do unto other...</td>\n",
       "      <td>★★★★★</td>\n",
       "      <td>21 Oct 2023</td>\n",
       "      <td>Watched</td>\n",
       "      <td>eureka</td>\n",
       "    </tr>\n",
       "    <tr>\n",
       "      <th>87904</th>\n",
       "      <td>87904</td>\n",
       "      <td>This is what I expect from screenplay when I s...</td>\n",
       "      <td>★★★★★</td>\n",
       "      <td>02 Jan 2022</td>\n",
       "      <td>Watched</td>\n",
       "      <td>happy-together-1997</td>\n",
       "    </tr>\n",
       "    <tr>\n",
       "      <th>57955</th>\n",
       "      <td>57955</td>\n",
       "      <td>#madlad Mifune'If you would shed blood, then l...</td>\n",
       "      <td>★★★★</td>\n",
       "      <td>13 Apr 2021</td>\n",
       "      <td>Watched</td>\n",
       "      <td>throne-of-blood</td>\n",
       "    </tr>\n",
       "  </tbody>\n",
       "</table>\n",
       "</div>"
      ],
      "text/plain": [
       "       Unnamed: 0                                             Review Rating  \\\n",
       "43340       43340  A scathing political thriller from the great C...  ★★★★★   \n",
       "29334       29334  It's impossible to not respect how kids of a c...  ★★★★½   \n",
       "72718       72718  \"There is only one golden rule: \"Do unto other...  ★★★★★   \n",
       "87904       87904  This is what I expect from screenplay when I s...  ★★★★★   \n",
       "57955       57955  #madlad Mifune'If you would shed blood, then l...   ★★★★   \n",
       "\n",
       "              Date   Status                       Movie  \n",
       "43340  19 Jul 2022  Watched                           z  \n",
       "29334  04 Aug 2021  Watched  where-is-the-friends-house  \n",
       "72718  21 Oct 2023  Watched                      eureka  \n",
       "87904  02 Jan 2022  Watched         happy-together-1997  \n",
       "57955  13 Apr 2021  Watched             throne-of-blood  "
      ]
     },
     "execution_count": 2,
     "metadata": {},
     "output_type": "execute_result"
    }
   ],
   "source": [
    "valid_reviews.head()"
   ]
  },
  {
   "cell_type": "markdown",
   "id": "2d58e1a7",
   "metadata": {},
   "source": [
    "remove non-english reviews:"
   ]
  },
  {
   "cell_type": "code",
   "execution_count": 3,
   "id": "d0071fae",
   "metadata": {},
   "outputs": [],
   "source": [
    "from langdetect import detect, DetectorFactory\n",
    "from langdetect.lang_detect_exception import LangDetectException\n",
    "\n",
    "# Set seed for consistent results\n",
    "DetectorFactory.seed = 0\n",
    "\n",
    "def is_english(text: str) -> bool:\n",
    "    try:\n",
    "        return detect(text) == 'en'\n",
    "    except LangDetectException:\n",
    "        # Handle very short texts or detection failures\n",
    "        return False\n",
    "\n",
    "is_english(valid_reviews['Review'].iloc[0])\n",
    "valid_reviews = valid_reviews[valid_reviews['Review'].apply(is_english)]"
   ]
  },
  {
   "cell_type": "markdown",
   "id": "513ed8fa",
   "metadata": {},
   "source": [
    "normalize the rating field:"
   ]
  },
  {
   "cell_type": "code",
   "execution_count": 4,
   "id": "0b237bf5",
   "metadata": {},
   "outputs": [
    {
     "data": {
      "text/html": [
       "<div>\n",
       "<style scoped>\n",
       "    .dataframe tbody tr th:only-of-type {\n",
       "        vertical-align: middle;\n",
       "    }\n",
       "\n",
       "    .dataframe tbody tr th {\n",
       "        vertical-align: top;\n",
       "    }\n",
       "\n",
       "    .dataframe thead th {\n",
       "        text-align: right;\n",
       "    }\n",
       "</style>\n",
       "<table border=\"1\" class=\"dataframe\">\n",
       "  <thead>\n",
       "    <tr style=\"text-align: right;\">\n",
       "      <th></th>\n",
       "      <th>Unnamed: 0</th>\n",
       "      <th>Review</th>\n",
       "      <th>Rating</th>\n",
       "      <th>Date</th>\n",
       "      <th>Status</th>\n",
       "      <th>Movie</th>\n",
       "    </tr>\n",
       "  </thead>\n",
       "  <tbody>\n",
       "    <tr>\n",
       "      <th>43340</th>\n",
       "      <td>43340</td>\n",
       "      <td>A scathing political thriller from the great C...</td>\n",
       "      <td>5 stars</td>\n",
       "      <td>19 Jul 2022</td>\n",
       "      <td>Watched</td>\n",
       "      <td>z</td>\n",
       "    </tr>\n",
       "    <tr>\n",
       "      <th>29334</th>\n",
       "      <td>29334</td>\n",
       "      <td>It's impossible to not respect how kids of a c...</td>\n",
       "      <td>4.5 stars</td>\n",
       "      <td>04 Aug 2021</td>\n",
       "      <td>Watched</td>\n",
       "      <td>where-is-the-friends-house</td>\n",
       "    </tr>\n",
       "    <tr>\n",
       "      <th>72718</th>\n",
       "      <td>72718</td>\n",
       "      <td>\"There is only one golden rule: \"Do unto other...</td>\n",
       "      <td>5 stars</td>\n",
       "      <td>21 Oct 2023</td>\n",
       "      <td>Watched</td>\n",
       "      <td>eureka</td>\n",
       "    </tr>\n",
       "    <tr>\n",
       "      <th>87904</th>\n",
       "      <td>87904</td>\n",
       "      <td>This is what I expect from screenplay when I s...</td>\n",
       "      <td>5 stars</td>\n",
       "      <td>02 Jan 2022</td>\n",
       "      <td>Watched</td>\n",
       "      <td>happy-together-1997</td>\n",
       "    </tr>\n",
       "    <tr>\n",
       "      <th>57955</th>\n",
       "      <td>57955</td>\n",
       "      <td>#madlad Mifune'If you would shed blood, then l...</td>\n",
       "      <td>4 stars</td>\n",
       "      <td>13 Apr 2021</td>\n",
       "      <td>Watched</td>\n",
       "      <td>throne-of-blood</td>\n",
       "    </tr>\n",
       "  </tbody>\n",
       "</table>\n",
       "</div>"
      ],
      "text/plain": [
       "       Unnamed: 0                                             Review  \\\n",
       "43340       43340  A scathing political thriller from the great C...   \n",
       "29334       29334  It's impossible to not respect how kids of a c...   \n",
       "72718       72718  \"There is only one golden rule: \"Do unto other...   \n",
       "87904       87904  This is what I expect from screenplay when I s...   \n",
       "57955       57955  #madlad Mifune'If you would shed blood, then l...   \n",
       "\n",
       "          Rating         Date   Status                       Movie  \n",
       "43340    5 stars  19 Jul 2022  Watched                           z  \n",
       "29334  4.5 stars  04 Aug 2021  Watched  where-is-the-friends-house  \n",
       "72718    5 stars  21 Oct 2023  Watched                      eureka  \n",
       "87904    5 stars  02 Jan 2022  Watched         happy-together-1997  \n",
       "57955    4 stars  13 Apr 2021  Watched             throne-of-blood  "
      ]
     },
     "execution_count": 4,
     "metadata": {},
     "output_type": "execute_result"
    }
   ],
   "source": [
    "valid_reviews.count()\n",
    "\n",
    "valid_reviews.groupby('Rating').count()\n",
    "\n",
    "def normalize_rating(rating: str) -> str:\n",
    "    mapping = {\n",
    "        '½': '0.5',\n",
    "        '★': '1',\n",
    "        '★½': '1.5',\n",
    "        '★★': '2',\n",
    "        '★★½': '2.5',\n",
    "        '★★★': '3',\n",
    "        '★★★½': '3.5',\n",
    "        '★★★★': '4',\n",
    "        '★★★★½': '4.5',\n",
    "        '★★★★★': '5'\n",
    "    }\n",
    "    return f'{mapping[rating]} stars'\n",
    "\n",
    "valid_reviews['Rating'] = valid_reviews['Rating'].apply(normalize_rating)\n",
    "valid_reviews.head()"
   ]
  },
  {
   "cell_type": "markdown",
   "id": "f657cf86",
   "metadata": {},
   "source": [
    "sample 200 reviews for each rating:"
   ]
  },
  {
   "cell_type": "code",
   "execution_count": 5,
   "id": "47324f5f",
   "metadata": {},
   "outputs": [
    {
     "data": {
      "text/html": [
       "<div>\n",
       "<style scoped>\n",
       "    .dataframe tbody tr th:only-of-type {\n",
       "        vertical-align: middle;\n",
       "    }\n",
       "\n",
       "    .dataframe tbody tr th {\n",
       "        vertical-align: top;\n",
       "    }\n",
       "\n",
       "    .dataframe thead th {\n",
       "        text-align: right;\n",
       "    }\n",
       "</style>\n",
       "<table border=\"1\" class=\"dataframe\">\n",
       "  <thead>\n",
       "    <tr style=\"text-align: right;\">\n",
       "      <th></th>\n",
       "      <th>Original_ID</th>\n",
       "      <th>Review</th>\n",
       "      <th>Rating</th>\n",
       "      <th>Movie</th>\n",
       "    </tr>\n",
       "  </thead>\n",
       "  <tbody>\n",
       "    <tr>\n",
       "      <th>26598</th>\n",
       "      <td>26598</td>\n",
       "      <td>Satantango is a pure work of the devil which c...</td>\n",
       "      <td>5 stars</td>\n",
       "      <td>satantango</td>\n",
       "    </tr>\n",
       "    <tr>\n",
       "      <th>64304</th>\n",
       "      <td>64304</td>\n",
       "      <td>Best Actress Winners Finished (Complete Rankin...</td>\n",
       "      <td>5 stars</td>\n",
       "      <td>whos-afraid-of-virginia-woolf</td>\n",
       "    </tr>\n",
       "    <tr>\n",
       "      <th>21703</th>\n",
       "      <td>21703</td>\n",
       "      <td>This my family’s Christmas movie growing up an...</td>\n",
       "      <td>5 stars</td>\n",
       "      <td>its-a-wonderful-life</td>\n",
       "    </tr>\n",
       "    <tr>\n",
       "      <th>70342</th>\n",
       "      <td>70342</td>\n",
       "      <td>\"All this happiness that you wished for me has...</td>\n",
       "      <td>5 stars</td>\n",
       "      <td>the-tale-of-the-princess-kaguya</td>\n",
       "    </tr>\n",
       "    <tr>\n",
       "      <th>73915</th>\n",
       "      <td>73915</td>\n",
       "      <td>shelley duvall deserves the praise that jack n...</td>\n",
       "      <td>5 stars</td>\n",
       "      <td>the-shining</td>\n",
       "    </tr>\n",
       "  </tbody>\n",
       "</table>\n",
       "</div>"
      ],
      "text/plain": [
       "       Original_ID                                             Review  \\\n",
       "26598        26598  Satantango is a pure work of the devil which c...   \n",
       "64304        64304  Best Actress Winners Finished (Complete Rankin...   \n",
       "21703        21703  This my family’s Christmas movie growing up an...   \n",
       "70342        70342  \"All this happiness that you wished for me has...   \n",
       "73915        73915  shelley duvall deserves the praise that jack n...   \n",
       "\n",
       "        Rating                            Movie  \n",
       "26598  5 stars                       satantango  \n",
       "64304  5 stars    whos-afraid-of-virginia-woolf  \n",
       "21703  5 stars             its-a-wonderful-life  \n",
       "70342  5 stars  the-tale-of-the-princess-kaguya  \n",
       "73915  5 stars                      the-shining  "
      ]
     },
     "execution_count": 5,
     "metadata": {},
     "output_type": "execute_result"
    }
   ],
   "source": [
    "sample_for_each_rating = 200\n",
    "sampled_valid_reviews = pd.concat([valid_reviews[valid_reviews['Rating'] == rating].sample(n = sample_for_each_rating, random_state=42) for rating in valid_reviews['Rating'].unique()])\n",
    "# remove 'Watched' column\n",
    "sampled_valid_reviews = sampled_valid_reviews.drop(columns=['Status','Date']).rename(columns={'Unnamed: 0': 'Original_ID'})\n",
    "sampled_valid_reviews.head()"
   ]
  },
  {
   "cell_type": "markdown",
   "id": "a38648d4",
   "metadata": {},
   "source": [
    "see some of the reviews:"
   ]
  },
  {
   "cell_type": "code",
   "execution_count": 6,
   "id": "265cb51c",
   "metadata": {},
   "outputs": [
    {
     "name": "stdout",
     "output_type": "stream",
     "text": [
      "Samples for rating 5 stars:\n",
      " Review: shelley duvall deserves the praise that jack nicholson gets for this film. - Movie: the-shining\n",
      " Review: Well, I feel devastated after finishing this. The last 30 minutes were so sad to watch.Edit: I just noticed there are more films that continues Antoine's story, I guess I will be watching all of those soon. - Movie: the-400-blows\n",
      " Review: It's just a movie; it won't hurt you.The movie: - Movie: landscape-in-the-mist\n",
      " Review: okay but like why is this the greatest movie ever made in film history!! - Movie: whiplash-2014\n",
      " Review: You are not machines!You are not cattle!You are men!You have the love of humanity in your hearts!You don't hate!Only the unloved hate - the unloved and the unnatural!Love this man. That's all.Charlie Chaplin movies (Watched & Ranked) - Movie: the-great-dictator\n",
      "\n",
      "\n",
      "Samples for rating 2.5 stars:\n",
      " Review: Letterboxd Top 250 Marathon: 54/130The first act is masterful. - Movie: farewell-my-concubine\n",
      " Review: Beautifully imaginative and I really wanted to like this more, but remained mostly indifferent to the emotionality of Miyazaki's story beats. Yes, I am apparently a heartless asshole. - Movie: spirited-away\n",
      " Review: The only way to see this is in 3D with a group of like minded folks. It’s a bit slow in the middle, but the schlocky 3D gags and gooey practicals make up for it. MVP: The practical effects are the highlight here. Lots of fluids. - Movie: parasite\n",
      " Review: Halfway through this I hit the play button on accident which caused WAP to start playing and honestly? Heightened the experience. - Movie: lawrence-of-arabia\n",
      " Review: charlize theron’s acting is on a different level. but overall, a mediocre movie that sympathizes with eileen too much for my liking - Movie: monster\n",
      "\n",
      "\n",
      "Samples for rating 0.5 stars:\n",
      " Review: hey homie you forgot the plot 😳 - Movie: pather-panchali\n",
      " Review: Shameless Bionicle rip off - Movie: the-lord-of-the-rings-the-fellowship-of-the-ring\n",
      " Review: I wanted to light myself on fire while watching this boring ass movie. - Movie: portrait-of-a-lady-on-fire\n",
      " Review: This movie sucks ass. Brad Pitt sucks. Fuck this and the Titanic. This gets a half star because I like soap and the cover has soap. - Movie: fight-club\n",
      " Review: \"Made the Holocaust watchable\" -some dude in my class - Movie: life-is-beautiful\n",
      "\n",
      "\n"
     ]
    },
    {
     "name": "stderr",
     "output_type": "stream",
     "text": [
      "/var/folders/6g/d16gbw5x5z9fk0rmvxw5z5q80000gn/T/ipykernel_8476/1197829163.py:5: UserWarning: Boolean Series key will be reindexed to match DataFrame index.\n",
      "  return sampled_valid_reviews[sampled_valid_reviews['Rating'] == rating][sampled_valid_reviews['Review'].str.len() < 250].apply(summarize, axis=1).head().tolist()\n",
      "/var/folders/6g/d16gbw5x5z9fk0rmvxw5z5q80000gn/T/ipykernel_8476/1197829163.py:5: UserWarning: Boolean Series key will be reindexed to match DataFrame index.\n",
      "  return sampled_valid_reviews[sampled_valid_reviews['Rating'] == rating][sampled_valid_reviews['Review'].str.len() < 250].apply(summarize, axis=1).head().tolist()\n",
      "/var/folders/6g/d16gbw5x5z9fk0rmvxw5z5q80000gn/T/ipykernel_8476/1197829163.py:5: UserWarning: Boolean Series key will be reindexed to match DataFrame index.\n",
      "  return sampled_valid_reviews[sampled_valid_reviews['Rating'] == rating][sampled_valid_reviews['Review'].str.len() < 250].apply(summarize, axis=1).head().tolist()\n"
     ]
    }
   ],
   "source": [
    "def summarize(df_row)-> str:\n",
    "    return f\"Review: {df_row['Review']} - Movie: {df_row['Movie']}\"\n",
    "\n",
    "def check_rating(rating):\n",
    "    return sampled_valid_reviews[sampled_valid_reviews['Rating'] == rating][sampled_valid_reviews['Review'].str.len() < 250].apply(summarize, axis=1).head().tolist()\n",
    "\n",
    "def log_sample_for_rating(rating):\n",
    "    samples = check_rating(rating)\n",
    "    print(f\"Samples for rating {rating}:\")\n",
    "    for sample in samples:\n",
    "        print(f' {sample}')\n",
    "    print(\"\\n\")\n",
    "log_sample_for_rating('5 stars')\n",
    "log_sample_for_rating('2.5 stars')\n",
    "log_sample_for_rating('0.5 stars')"
   ]
  },
  {
   "cell_type": "code",
   "execution_count": 7,
   "id": "bd44aa18",
   "metadata": {},
   "outputs": [],
   "source": [
    "# save the sampled reviews to a new CSV file\n",
    "sampled_valid_reviews.to_csv('./letterboxd_250movie_reviews_normalized_sampled.csv', index=False)"
   ]
  }
 ],
 "metadata": {
  "kernelspec": {
   "display_name": "Python 3 (ipykernel)",
   "language": "python",
   "name": "python3"
  },
  "language_info": {
   "codemirror_mode": {
    "name": "ipython",
    "version": 3
   },
   "file_extension": ".py",
   "mimetype": "text/x-python",
   "name": "python",
   "nbconvert_exporter": "python",
   "pygments_lexer": "ipython3",
   "version": "3.13.1"
  }
 },
 "nbformat": 4,
 "nbformat_minor": 5
}
