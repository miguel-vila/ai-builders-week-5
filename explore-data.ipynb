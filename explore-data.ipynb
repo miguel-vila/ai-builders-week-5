{
 "cells": [
  {
   "cell_type": "code",
   "execution_count": 1,
   "id": "313f7147-4436-4b9b-8c80-a79040c547b0",
   "metadata": {},
   "outputs": [
    {
     "name": "stderr",
     "output_type": "stream",
     "text": [
      "/var/folders/6g/d16gbw5x5z9fk0rmvxw5z5q80000gn/T/ipykernel_87962/4114284106.py:6: UserWarning: Boolean Series key will be reindexed to match DataFrame index.\n",
      "  valid_reviews = reviews_raw[reviews_raw['Rating'].notna()][reviews_raw['Status'] == 'Watched'][~reviews_raw['Review'].isna()].sample(frac=1, random_state=42)\n",
      "/var/folders/6g/d16gbw5x5z9fk0rmvxw5z5q80000gn/T/ipykernel_87962/4114284106.py:6: UserWarning: Boolean Series key will be reindexed to match DataFrame index.\n",
      "  valid_reviews = reviews_raw[reviews_raw['Rating'].notna()][reviews_raw['Status'] == 'Watched'][~reviews_raw['Review'].isna()].sample(frac=1, random_state=42)\n"
     ]
    },
    {
     "data": {
      "text/plain": [
       "Unnamed: 0    61096\n",
       "Review        61096\n",
       "Rating        61096\n",
       "Date          61096\n",
       "Status        61096\n",
       "Movie         61096\n",
       "dtype: int64"
      ]
     },
     "execution_count": 1,
     "metadata": {},
     "output_type": "execute_result"
    }
   ],
   "source": [
    "import pandas as pd\n",
    "\n",
    "reviews_raw: pd.DataFrame = pd.read_csv(\"./data/letterboxd_250movie_reviews.csv\")\n",
    "\n",
    "reviews_raw.head()\n",
    "valid_reviews = reviews_raw[reviews_raw['Rating'].notna()][reviews_raw['Status'] == 'Watched'][~reviews_raw['Review'].isna()].sample(frac=1, random_state=42)\n",
    "valid_reviews.count()"
   ]
  },
  {
   "cell_type": "code",
   "execution_count": 2,
   "id": "22a5e5ac",
   "metadata": {},
   "outputs": [
    {
     "data": {
      "text/html": [
       "<div>\n",
       "<style scoped>\n",
       "    .dataframe tbody tr th:only-of-type {\n",
       "        vertical-align: middle;\n",
       "    }\n",
       "\n",
       "    .dataframe tbody tr th {\n",
       "        vertical-align: top;\n",
       "    }\n",
       "\n",
       "    .dataframe thead th {\n",
       "        text-align: right;\n",
       "    }\n",
       "</style>\n",
       "<table border=\"1\" class=\"dataframe\">\n",
       "  <thead>\n",
       "    <tr style=\"text-align: right;\">\n",
       "      <th></th>\n",
       "      <th>Unnamed: 0</th>\n",
       "      <th>Review</th>\n",
       "      <th>Rating</th>\n",
       "      <th>Date</th>\n",
       "      <th>Status</th>\n",
       "      <th>Movie</th>\n",
       "    </tr>\n",
       "  </thead>\n",
       "  <tbody>\n",
       "    <tr>\n",
       "      <th>43340</th>\n",
       "      <td>43340</td>\n",
       "      <td>A scathing political thriller from the great C...</td>\n",
       "      <td>★★★★★</td>\n",
       "      <td>19 Jul 2022</td>\n",
       "      <td>Watched</td>\n",
       "      <td>z</td>\n",
       "    </tr>\n",
       "    <tr>\n",
       "      <th>29334</th>\n",
       "      <td>29334</td>\n",
       "      <td>It's impossible to not respect how kids of a c...</td>\n",
       "      <td>★★★★½</td>\n",
       "      <td>04 Aug 2021</td>\n",
       "      <td>Watched</td>\n",
       "      <td>where-is-the-friends-house</td>\n",
       "    </tr>\n",
       "    <tr>\n",
       "      <th>72718</th>\n",
       "      <td>72718</td>\n",
       "      <td>\"There is only one golden rule: \"Do unto other...</td>\n",
       "      <td>★★★★★</td>\n",
       "      <td>21 Oct 2023</td>\n",
       "      <td>Watched</td>\n",
       "      <td>eureka</td>\n",
       "    </tr>\n",
       "    <tr>\n",
       "      <th>87904</th>\n",
       "      <td>87904</td>\n",
       "      <td>This is what I expect from screenplay when I s...</td>\n",
       "      <td>★★★★★</td>\n",
       "      <td>02 Jan 2022</td>\n",
       "      <td>Watched</td>\n",
       "      <td>happy-together-1997</td>\n",
       "    </tr>\n",
       "    <tr>\n",
       "      <th>57955</th>\n",
       "      <td>57955</td>\n",
       "      <td>#madlad Mifune'If you would shed blood, then l...</td>\n",
       "      <td>★★★★</td>\n",
       "      <td>13 Apr 2021</td>\n",
       "      <td>Watched</td>\n",
       "      <td>throne-of-blood</td>\n",
       "    </tr>\n",
       "  </tbody>\n",
       "</table>\n",
       "</div>"
      ],
      "text/plain": [
       "       Unnamed: 0                                             Review Rating  \\\n",
       "43340       43340  A scathing political thriller from the great C...  ★★★★★   \n",
       "29334       29334  It's impossible to not respect how kids of a c...  ★★★★½   \n",
       "72718       72718  \"There is only one golden rule: \"Do unto other...  ★★★★★   \n",
       "87904       87904  This is what I expect from screenplay when I s...  ★★★★★   \n",
       "57955       57955  #madlad Mifune'If you would shed blood, then l...   ★★★★   \n",
       "\n",
       "              Date   Status                       Movie  \n",
       "43340  19 Jul 2022  Watched                           z  \n",
       "29334  04 Aug 2021  Watched  where-is-the-friends-house  \n",
       "72718  21 Oct 2023  Watched                      eureka  \n",
       "87904  02 Jan 2022  Watched         happy-together-1997  \n",
       "57955  13 Apr 2021  Watched             throne-of-blood  "
      ]
     },
     "execution_count": 2,
     "metadata": {},
     "output_type": "execute_result"
    }
   ],
   "source": [
    "valid_reviews.head()"
   ]
  },
  {
   "cell_type": "markdown",
   "id": "2d58e1a7",
   "metadata": {},
   "source": [
    "remove non-english reviews:"
   ]
  },
  {
   "cell_type": "code",
   "execution_count": 3,
   "id": "d0071fae",
   "metadata": {},
   "outputs": [],
   "source": [
    "from langdetect import detect, DetectorFactory\n",
    "from langdetect.lang_detect_exception import LangDetectException\n",
    "\n",
    "# Set seed for consistent results\n",
    "DetectorFactory.seed = 0\n",
    "\n",
    "def is_english(text: str) -> bool:\n",
    "    try:\n",
    "        return detect(text) == 'en'\n",
    "    except LangDetectException:\n",
    "        # Handle very short texts or detection failures\n",
    "        return False\n",
    "\n",
    "is_english(valid_reviews['Review'].iloc[0])\n",
    "valid_reviews = valid_reviews[valid_reviews['Review'].apply(is_english)]"
   ]
  },
  {
   "cell_type": "markdown",
   "id": "f657cf86",
   "metadata": {},
   "source": [
    "sample 200 reviews for each rating:"
   ]
  },
  {
   "cell_type": "code",
   "execution_count": 4,
   "id": "47324f5f",
   "metadata": {},
   "outputs": [
    {
     "data": {
      "text/html": [
       "<div>\n",
       "<style scoped>\n",
       "    .dataframe tbody tr th:only-of-type {\n",
       "        vertical-align: middle;\n",
       "    }\n",
       "\n",
       "    .dataframe tbody tr th {\n",
       "        vertical-align: top;\n",
       "    }\n",
       "\n",
       "    .dataframe thead th {\n",
       "        text-align: right;\n",
       "    }\n",
       "</style>\n",
       "<table border=\"1\" class=\"dataframe\">\n",
       "  <thead>\n",
       "    <tr style=\"text-align: right;\">\n",
       "      <th></th>\n",
       "      <th>Original_ID</th>\n",
       "      <th>Review</th>\n",
       "      <th>Rating</th>\n",
       "      <th>Movie</th>\n",
       "    </tr>\n",
       "  </thead>\n",
       "  <tbody>\n",
       "    <tr>\n",
       "      <th>3029</th>\n",
       "      <td>3029</td>\n",
       "      <td>Chaaarrrrrlieeee wtf man this bad :/Itll be a ...</td>\n",
       "      <td>★</td>\n",
       "      <td>parasite</td>\n",
       "    </tr>\n",
       "    <tr>\n",
       "      <th>18442</th>\n",
       "      <td>18442</td>\n",
       "      <td>“I can't waste time wondering if I made mistak...</td>\n",
       "      <td>★★★★½</td>\n",
       "      <td>in-the-mood-for-love</td>\n",
       "    </tr>\n",
       "    <tr>\n",
       "      <th>77401</th>\n",
       "      <td>77401</td>\n",
       "      <td>Life has a tendency to feel like a series of t...</td>\n",
       "      <td>★★★</td>\n",
       "      <td>aparajito</td>\n",
       "    </tr>\n",
       "    <tr>\n",
       "      <th>68592</th>\n",
       "      <td>68592</td>\n",
       "      <td>im a little bit confused but i've got the spir...</td>\n",
       "      <td>★★</td>\n",
       "      <td>mulholland-drive</td>\n",
       "    </tr>\n",
       "    <tr>\n",
       "      <th>38793</th>\n",
       "      <td>38793</td>\n",
       "      <td>A friend of mine once said:“Films are a joy. T...</td>\n",
       "      <td>★★★</td>\n",
       "      <td>the-wages-of-fear</td>\n",
       "    </tr>\n",
       "  </tbody>\n",
       "</table>\n",
       "</div>"
      ],
      "text/plain": [
       "       Original_ID                                             Review Rating  \\\n",
       "3029          3029  Chaaarrrrrlieeee wtf man this bad :/Itll be a ...      ★   \n",
       "18442        18442  “I can't waste time wondering if I made mistak...  ★★★★½   \n",
       "77401        77401  Life has a tendency to feel like a series of t...    ★★★   \n",
       "68592        68592  im a little bit confused but i've got the spir...     ★★   \n",
       "38793        38793  A friend of mine once said:“Films are a joy. T...    ★★★   \n",
       "\n",
       "                      Movie  \n",
       "3029               parasite  \n",
       "18442  in-the-mood-for-love  \n",
       "77401             aparajito  \n",
       "68592      mulholland-drive  \n",
       "38793     the-wages-of-fear  "
      ]
     },
     "execution_count": 4,
     "metadata": {},
     "output_type": "execute_result"
    }
   ],
   "source": [
    "sample_for_each_rating = 200\n",
    "sampled_valid_reviews = pd.concat([valid_reviews[valid_reviews['Rating'] == rating].sample(n = sample_for_each_rating, random_state=42) for rating in valid_reviews['Rating'].unique()])\n",
    "sampled_valid_reviews = sampled_valid_reviews.sample(frac=1, random_state=42) # shuffle again to avoid ordered by rating\n",
    "sampled_valid_reviews = sampled_valid_reviews.drop(columns=['Status','Date']).rename(columns={'Unnamed: 0': 'Original_ID'})\n",
    "sampled_valid_reviews.head()"
   ]
  },
  {
   "cell_type": "markdown",
   "id": "a38648d4",
   "metadata": {},
   "source": [
    "see some of the reviews:"
   ]
  },
  {
   "cell_type": "code",
   "execution_count": 5,
   "id": "265cb51c",
   "metadata": {},
   "outputs": [
    {
     "name": "stdout",
     "output_type": "stream",
     "text": [
      "Samples for rating ★★★★★:\n",
      " Review: First time on a big screen and I'm literally overwhelmed: after almost thirty years Satoshi Kon is still beyond the beyond. - Movie: perfect-blue\n",
      " Review: That thing going around on TikTok that’s like “what’s an acting performance that was SO GOOD that you forgot it was acting??” and it’s just this in its entirety - Movie: whos-afraid-of-virginia-woolf\n",
      " Review: An advertisement of silence from god in a land of souls without eyelids. - Movie: werckmeister-harmonies\n",
      " Review: bob fosse was a human bojack horseman - Movie: all-that-jazz\n",
      " Review: About to lose my fucking minddddddddd - Movie: opening-night\n",
      "\n",
      "\n",
      "Samples for rating ★★½:\n",
      " Review: Halfway through this I hit the play button on accident which caused WAP to start playing and honestly? Heightened the experience. - Movie: lawrence-of-arabia\n",
      " Review: \"I had to execute someone, and there is something about it I didn't like.\" -Lawrence, Four hours of colonialism, sand, brown face and boredom.. not my thing but the cinematography is outstanding. - Movie: lawrence-of-arabia\n",
      " Review: Before watching I always assumed this was some crazy mystery thriller, no idea why. Instead it’s a relatively boring drama about a dickhead. - Movie: paris-texas\n",
      " Review: Definitely not for me. I had to watch a dude walk back and forth across an empty pool for what felt like 30 minutes. This is what you’d call an art piece. - Movie: nostalgia-1983\n",
      " Review: Wait... you're telling me the movie that got people so excited this year is a 22x-longer version of this??Oh, boy... - Movie: marcel-the-shell-with-shoes-on\n",
      "\n",
      "\n",
      "Samples for rating ½:\n",
      " Review: Qui Gon Jinn is not this old. 0/10 - Movie: oldboy\n",
      " Review: i have a rhetorical question-what if that tampon didnt fall out of jojo siwas punani😔(1/10) - Movie: the-fifth-seal\n",
      " Review: what the fuck was that - Movie: war-and-peace\n",
      " Review: Unbelievably shitty. Shit characters and doesn't even star Dunkaccino - Movie: i-am-cuba\n",
      " Review: the only good part of this movie was rei farming - Movie: evangelion-3010-thrice-upon-a-time\n",
      "\n",
      "\n"
     ]
    },
    {
     "name": "stderr",
     "output_type": "stream",
     "text": [
      "/var/folders/6g/d16gbw5x5z9fk0rmvxw5z5q80000gn/T/ipykernel_87962/4154530477.py:5: UserWarning: Boolean Series key will be reindexed to match DataFrame index.\n",
      "  return sampled_valid_reviews[sampled_valid_reviews['Rating'] == rating][sampled_valid_reviews['Review'].str.len() < 250].apply(summarize, axis=1).head().tolist()\n",
      "/var/folders/6g/d16gbw5x5z9fk0rmvxw5z5q80000gn/T/ipykernel_87962/4154530477.py:5: UserWarning: Boolean Series key will be reindexed to match DataFrame index.\n",
      "  return sampled_valid_reviews[sampled_valid_reviews['Rating'] == rating][sampled_valid_reviews['Review'].str.len() < 250].apply(summarize, axis=1).head().tolist()\n",
      "/var/folders/6g/d16gbw5x5z9fk0rmvxw5z5q80000gn/T/ipykernel_87962/4154530477.py:5: UserWarning: Boolean Series key will be reindexed to match DataFrame index.\n",
      "  return sampled_valid_reviews[sampled_valid_reviews['Rating'] == rating][sampled_valid_reviews['Review'].str.len() < 250].apply(summarize, axis=1).head().tolist()\n"
     ]
    }
   ],
   "source": [
    "def summarize(df_row)-> str:\n",
    "    return f\"Review: {df_row['Review']} - Movie: {df_row['Movie']}\"\n",
    "\n",
    "def check_rating(rating):\n",
    "    return sampled_valid_reviews[sampled_valid_reviews['Rating'] == rating][sampled_valid_reviews['Review'].str.len() < 250].apply(summarize, axis=1).head().tolist()\n",
    "\n",
    "def log_sample_for_rating(rating):\n",
    "    samples = check_rating(rating)\n",
    "    print(f\"Samples for rating {rating}:\")\n",
    "    for sample in samples:\n",
    "        print(f' {sample}')\n",
    "    print(\"\\n\")\n",
    "log_sample_for_rating('★★★★★')\n",
    "log_sample_for_rating('★★½')\n",
    "log_sample_for_rating('½')"
   ]
  },
  {
   "cell_type": "code",
   "execution_count": 7,
   "id": "bd44aa18",
   "metadata": {},
   "outputs": [
    {
     "name": "stdout",
     "output_type": "stream",
     "text": [
      "Train set size: 1600\n",
      "Validation set size: 200\n",
      "Test set size: 200\n"
     ]
    }
   ],
   "source": [
    "# save the sampled reviews to a new CSV file\n",
    "sampled_valid_reviews.to_csv('./letterboxd_250movie_reviews_normalized_sampled.csv', index=False)\n",
    "\n",
    "# divide into training, validation, and test sets\n",
    "train_frac = 0.8\n",
    "val_frac = 0.1\n",
    "test_frac = 0.1\n",
    "train_size = int(len(sampled_valid_reviews) * train_frac)\n",
    "val_size = int(len(sampled_valid_reviews) * val_frac)   \n",
    "test_size = int(len(sampled_valid_reviews) * test_frac)\n",
    "train_set = sampled_valid_reviews[:train_size]\n",
    "val_set = sampled_valid_reviews[train_size:train_size + val_size]\n",
    "test_set = sampled_valid_reviews[train_size + val_size:]\n",
    "print(f\"Train set size: {len(train_set)}\")\n",
    "print(f\"Validation set size: {len(val_set)}\")\n",
    "print(f\"Test set size: {len(test_set)}\")\n",
    "train_set.to_csv('./data/letterboxd_250movie_reviews_train.csv', index=False)\n",
    "val_set.to_csv('./data/letterboxd_250movie_reviews_val.csv', index=False)\n",
    "test_set.to_csv('./data/letterboxd_250movie_reviews_test.csv', index=False)"
   ]
  }
 ],
 "metadata": {
  "kernelspec": {
   "display_name": "Python 3 (ipykernel)",
   "language": "python",
   "name": "python3"
  },
  "language_info": {
   "codemirror_mode": {
    "name": "ipython",
    "version": 3
   },
   "file_extension": ".py",
   "mimetype": "text/x-python",
   "name": "python",
   "nbconvert_exporter": "python",
   "pygments_lexer": "ipython3",
   "version": "3.13.1"
  }
 },
 "nbformat": 4,
 "nbformat_minor": 5
}
