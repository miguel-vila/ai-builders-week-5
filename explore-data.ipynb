{
 "cells": [
  {
   "cell_type": "code",
   "execution_count": 1,
   "id": "313f7147-4436-4b9b-8c80-a79040c547b0",
   "metadata": {},
   "outputs": [
    {
     "name": "stderr",
     "output_type": "stream",
     "text": [
      "/var/folders/6g/d16gbw5x5z9fk0rmvxw5z5q80000gn/T/ipykernel_75144/4114284106.py:6: UserWarning: Boolean Series key will be reindexed to match DataFrame index.\n",
      "  valid_reviews = reviews_raw[reviews_raw['Rating'].notna()][reviews_raw['Status'] == 'Watched'][~reviews_raw['Review'].isna()].sample(frac=1, random_state=42)\n",
      "/var/folders/6g/d16gbw5x5z9fk0rmvxw5z5q80000gn/T/ipykernel_75144/4114284106.py:6: UserWarning: Boolean Series key will be reindexed to match DataFrame index.\n",
      "  valid_reviews = reviews_raw[reviews_raw['Rating'].notna()][reviews_raw['Status'] == 'Watched'][~reviews_raw['Review'].isna()].sample(frac=1, random_state=42)\n"
     ]
    },
    {
     "data": {
      "text/plain": [
       "Unnamed: 0    61096\n",
       "Review        61096\n",
       "Rating        61096\n",
       "Date          61096\n",
       "Status        61096\n",
       "Movie         61096\n",
       "dtype: int64"
      ]
     },
     "execution_count": 1,
     "metadata": {},
     "output_type": "execute_result"
    }
   ],
   "source": [
    "import pandas as pd\n",
    "\n",
    "reviews_raw: pd.DataFrame = pd.read_csv(\"./data/letterboxd_250movie_reviews.csv\")\n",
    "\n",
    "reviews_raw.head()\n",
    "valid_reviews = reviews_raw[reviews_raw['Rating'].notna()][reviews_raw['Status'] == 'Watched'][~reviews_raw['Review'].isna()].sample(frac=1, random_state=42)\n",
    "valid_reviews.count()"
   ]
  },
  {
   "cell_type": "code",
   "execution_count": 2,
   "id": "22a5e5ac",
   "metadata": {},
   "outputs": [
    {
     "data": {
      "text/html": [
       "<div>\n",
       "<style scoped>\n",
       "    .dataframe tbody tr th:only-of-type {\n",
       "        vertical-align: middle;\n",
       "    }\n",
       "\n",
       "    .dataframe tbody tr th {\n",
       "        vertical-align: top;\n",
       "    }\n",
       "\n",
       "    .dataframe thead th {\n",
       "        text-align: right;\n",
       "    }\n",
       "</style>\n",
       "<table border=\"1\" class=\"dataframe\">\n",
       "  <thead>\n",
       "    <tr style=\"text-align: right;\">\n",
       "      <th></th>\n",
       "      <th>Unnamed: 0</th>\n",
       "      <th>Review</th>\n",
       "      <th>Rating</th>\n",
       "      <th>Date</th>\n",
       "      <th>Status</th>\n",
       "      <th>Movie</th>\n",
       "    </tr>\n",
       "  </thead>\n",
       "  <tbody>\n",
       "    <tr>\n",
       "      <th>43340</th>\n",
       "      <td>43340</td>\n",
       "      <td>A scathing political thriller from the great C...</td>\n",
       "      <td>★★★★★</td>\n",
       "      <td>19 Jul 2022</td>\n",
       "      <td>Watched</td>\n",
       "      <td>z</td>\n",
       "    </tr>\n",
       "    <tr>\n",
       "      <th>29334</th>\n",
       "      <td>29334</td>\n",
       "      <td>It's impossible to not respect how kids of a c...</td>\n",
       "      <td>★★★★½</td>\n",
       "      <td>04 Aug 2021</td>\n",
       "      <td>Watched</td>\n",
       "      <td>where-is-the-friends-house</td>\n",
       "    </tr>\n",
       "    <tr>\n",
       "      <th>72718</th>\n",
       "      <td>72718</td>\n",
       "      <td>\"There is only one golden rule: \"Do unto other...</td>\n",
       "      <td>★★★★★</td>\n",
       "      <td>21 Oct 2023</td>\n",
       "      <td>Watched</td>\n",
       "      <td>eureka</td>\n",
       "    </tr>\n",
       "    <tr>\n",
       "      <th>87904</th>\n",
       "      <td>87904</td>\n",
       "      <td>This is what I expect from screenplay when I s...</td>\n",
       "      <td>★★★★★</td>\n",
       "      <td>02 Jan 2022</td>\n",
       "      <td>Watched</td>\n",
       "      <td>happy-together-1997</td>\n",
       "    </tr>\n",
       "    <tr>\n",
       "      <th>57955</th>\n",
       "      <td>57955</td>\n",
       "      <td>#madlad Mifune'If you would shed blood, then l...</td>\n",
       "      <td>★★★★</td>\n",
       "      <td>13 Apr 2021</td>\n",
       "      <td>Watched</td>\n",
       "      <td>throne-of-blood</td>\n",
       "    </tr>\n",
       "  </tbody>\n",
       "</table>\n",
       "</div>"
      ],
      "text/plain": [
       "       Unnamed: 0                                             Review Rating  \\\n",
       "43340       43340  A scathing political thriller from the great C...  ★★★★★   \n",
       "29334       29334  It's impossible to not respect how kids of a c...  ★★★★½   \n",
       "72718       72718  \"There is only one golden rule: \"Do unto other...  ★★★★★   \n",
       "87904       87904  This is what I expect from screenplay when I s...  ★★★★★   \n",
       "57955       57955  #madlad Mifune'If you would shed blood, then l...   ★★★★   \n",
       "\n",
       "              Date   Status                       Movie  \n",
       "43340  19 Jul 2022  Watched                           z  \n",
       "29334  04 Aug 2021  Watched  where-is-the-friends-house  \n",
       "72718  21 Oct 2023  Watched                      eureka  \n",
       "87904  02 Jan 2022  Watched         happy-together-1997  \n",
       "57955  13 Apr 2021  Watched             throne-of-blood  "
      ]
     },
     "execution_count": 2,
     "metadata": {},
     "output_type": "execute_result"
    }
   ],
   "source": [
    "valid_reviews.head()"
   ]
  },
  {
   "cell_type": "markdown",
   "id": "2d58e1a7",
   "metadata": {},
   "source": [
    "remove non-english reviews:"
   ]
  },
  {
   "cell_type": "code",
   "execution_count": 3,
   "id": "d0071fae",
   "metadata": {},
   "outputs": [],
   "source": [
    "from langdetect import detect, DetectorFactory\n",
    "from langdetect.lang_detect_exception import LangDetectException\n",
    "\n",
    "# Set seed for consistent results\n",
    "DetectorFactory.seed = 0\n",
    "\n",
    "def is_english(text: str) -> bool:\n",
    "    try:\n",
    "        return detect(text) == 'en'\n",
    "    except LangDetectException:\n",
    "        # Handle very short texts or detection failures\n",
    "        return False\n",
    "\n",
    "is_english(valid_reviews['Review'].iloc[0])\n",
    "valid_reviews = valid_reviews[valid_reviews['Review'].apply(is_english)]"
   ]
  },
  {
   "cell_type": "markdown",
   "id": "f657cf86",
   "metadata": {},
   "source": [
    "sample 300 reviews for each rating:"
   ]
  },
  {
   "cell_type": "code",
   "execution_count": 4,
   "id": "47324f5f",
   "metadata": {},
   "outputs": [
    {
     "name": "stdout",
     "output_type": "stream",
     "text": [
      "Sampling 300 reviews with rating ★★★★★\n",
      "Sampling 300 reviews with rating ★★★★½\n",
      "Sampling 300 reviews with rating ★★★★\n",
      "Sampling 226 reviews with rating ★½\n",
      "Sampling 300 reviews with rating ★★\n",
      "Sampling 300 reviews with rating ★★★½\n",
      "Sampling 300 reviews with rating ★★★\n",
      "Sampling 216 reviews with rating ½\n",
      "Sampling 300 reviews with rating ★★½\n",
      "Sampling 251 reviews with rating ★\n"
     ]
    },
    {
     "data": {
      "text/html": [
       "<div>\n",
       "<style scoped>\n",
       "    .dataframe tbody tr th:only-of-type {\n",
       "        vertical-align: middle;\n",
       "    }\n",
       "\n",
       "    .dataframe tbody tr th {\n",
       "        vertical-align: top;\n",
       "    }\n",
       "\n",
       "    .dataframe thead th {\n",
       "        text-align: right;\n",
       "    }\n",
       "</style>\n",
       "<table border=\"1\" class=\"dataframe\">\n",
       "  <thead>\n",
       "    <tr style=\"text-align: right;\">\n",
       "      <th></th>\n",
       "      <th>original_id</th>\n",
       "      <th>text</th>\n",
       "      <th>label</th>\n",
       "      <th>movie</th>\n",
       "    </tr>\n",
       "  </thead>\n",
       "  <tbody>\n",
       "    <tr>\n",
       "      <th>26543</th>\n",
       "      <td>26543</td>\n",
       "      <td>I finally went through the depths of cinephili...</td>\n",
       "      <td>1</td>\n",
       "      <td>satantango</td>\n",
       "    </tr>\n",
       "    <tr>\n",
       "      <th>73448</th>\n",
       "      <td>73448</td>\n",
       "      <td>Of all the movies I haven’t seen, this is the ...</td>\n",
       "      <td>3</td>\n",
       "      <td>saving-private-ryan</td>\n",
       "    </tr>\n",
       "    <tr>\n",
       "      <th>35210</th>\n",
       "      <td>35210</td>\n",
       "      <td>Calling this 'bleak' or 'nihilistic' is more t...</td>\n",
       "      <td>1</td>\n",
       "      <td>an-elephant-sitting-still</td>\n",
       "    </tr>\n",
       "    <tr>\n",
       "      <th>9532</th>\n",
       "      <td>9532</td>\n",
       "      <td>I tend to look toward immersion and authentici...</td>\n",
       "      <td>9</td>\n",
       "      <td>le-trou</td>\n",
       "    </tr>\n",
       "    <tr>\n",
       "      <th>68308</th>\n",
       "      <td>68308</td>\n",
       "      <td>Film #1 that was recommended to me,feel free t...</td>\n",
       "      <td>9</td>\n",
       "      <td>raging-bull</td>\n",
       "    </tr>\n",
       "  </tbody>\n",
       "</table>\n",
       "</div>"
      ],
      "text/plain": [
       "       original_id                                               text  label  \\\n",
       "26543        26543  I finally went through the depths of cinephili...      1   \n",
       "73448        73448  Of all the movies I haven’t seen, this is the ...      3   \n",
       "35210        35210  Calling this 'bleak' or 'nihilistic' is more t...      1   \n",
       "9532          9532  I tend to look toward immersion and authentici...      9   \n",
       "68308        68308  Film #1 that was recommended to me,feel free t...      9   \n",
       "\n",
       "                           movie  \n",
       "26543                 satantango  \n",
       "73448        saving-private-ryan  \n",
       "35210  an-elephant-sitting-still  \n",
       "9532                     le-trou  \n",
       "68308                raging-bull  "
      ]
     },
     "execution_count": 4,
     "metadata": {},
     "output_type": "execute_result"
    }
   ],
   "source": [
    "sample_for_each_rating = 300\n",
    "sampled = []\n",
    "for rating in valid_reviews['Rating'].unique():\n",
    "    reviews_with_rating = valid_reviews[valid_reviews['Rating'] == rating]\n",
    "    n = min(sample_for_each_rating, len(reviews_with_rating))\n",
    "    print(f\"Sampling {n} reviews with rating {rating}\")\n",
    "    sampled.append(reviews_with_rating.sample(n=n, random_state=42))\n",
    "\n",
    "sampled_valid_reviews = pd.concat(sampled)\n",
    "sampled_valid_reviews = sampled_valid_reviews.sample(frac=1, random_state=42) # shuffle again to avoid ordered by rating\n",
    "sampled_valid_reviews = sampled_valid_reviews.drop(columns=['Status','Date']).rename(columns={'Unnamed: 0': 'original_id', 'Movie': 'movie'})\n",
    "sampled_valid_reviews = sampled_valid_reviews.rename(columns={'Review': 'text', 'Rating': 'label'})\n",
    "label2id = {\n",
    "    \"½\": 0,\n",
    "    \"★\": 1,\n",
    "    \"★½\": 2,\n",
    "    \"★★\": 3,\n",
    "    \"★★½\": 4,\n",
    "    \"★★★\": 5,\n",
    "    \"★★★½\": 6,\n",
    "    \"★★★★\": 7,\n",
    "    \"★★★★½\": 8,\n",
    "    \"★★★★★\": 9,\n",
    "}\n",
    "sampled_valid_reviews['label'] = sampled_valid_reviews['label'].apply(lambda x: label2id[x])\n",
    "sampled_valid_reviews.head()"
   ]
  },
  {
   "cell_type": "markdown",
   "id": "a38648d4",
   "metadata": {},
   "source": [
    "see some of the reviews:"
   ]
  },
  {
   "cell_type": "code",
   "execution_count": 5,
   "id": "265cb51c",
   "metadata": {},
   "outputs": [
    {
     "name": "stdout",
     "output_type": "stream",
     "text": [
      "Samples for rating ★★★★★:\n",
      " Review: \"It was bound to happen eventually.\" The natural elements overrun and invaded by bodies & blood red. War is unnatural, turning kings into fools & fools into kings. - Movie: ran\n",
      " Review: It’s a very personal piece and much about it is more mystifying than revelatory. Still, the leads are magnificent together. If nothing else, Aftersun will make you think about your relationship with your own father. - Movie: aftersun\n",
      " Review: So the climax of this film has to be the craziest ever for a court film. Its just so unpredictable and intense. I think its a really rewatchable court film and I certainly look forward to watching it again. - Movie: witness-for-the-prosecution-1957\n",
      " Review: First time on a big screen and I'm literally overwhelmed: after almost thirty years Satoshi Kon is still beyond the beyond. - Movie: perfect-blue\n",
      " Review: “This is my story. This is the sacrifice my father made. This was his gift to me.”Guido really is the best father - Movie: life-is-beautiful\n",
      "\n",
      "\n",
      "Samples for rating ★★½:\n",
      " Review: If a sports anime can deliver on that moment the action and music and tension crescendos as the team goes all out on its winning play, it’s doing a good job. It just lacks in many other places, especially for newcomers - Movie: the-first-slam-dunk\n",
      " Review: My buddy gave me this VHS about a year ago and I just now got around to watching it. Pretty fun watch from Charles Band’s golden years but not really my kind of creature feature. The parasite looks goddamn awesome though. - Movie: parasite\n",
      " Review: honestly i was just so bored the whole time - Movie: dr-strangelove-or-how-i-learned-to-stop-worrying-and-love-the-bomb\n",
      " Review: Why is this considered a masterpiece. It's a kid's movie and is laced with plot conveniences. - Movie: the-lion-king\n",
      " Review: would of been better if chief keef was in this - Movie: m\n",
      "\n",
      "\n",
      "Samples for rating ½:\n",
      " Review: what the fuck was that - Movie: war-and-peace\n",
      " Review: Not enough gay sex - Movie: fight-club\n",
      " Review: Kaworu gets shipped with Rei.You won’t get away with this hets. - Movie: evangelion-3010-thrice-upon-a-time\n",
      " Review: 1/10. this is not AT ALL like the first lego movie. disappointed. - Movie: harakiri\n",
      " Review: I fucking hate the french. - Movie: jeanne-dielman-23-quai-du-commerce-1080-bruxelles\n",
      "\n",
      "\n"
     ]
    },
    {
     "name": "stderr",
     "output_type": "stream",
     "text": [
      "/var/folders/6g/d16gbw5x5z9fk0rmvxw5z5q80000gn/T/ipykernel_75144/1899875693.py:5: UserWarning: Boolean Series key will be reindexed to match DataFrame index.\n",
      "  return sampled_valid_reviews[sampled_valid_reviews['label'] == rating_id][sampled_valid_reviews['text'].str.len() < 250].apply(summarize, axis=1).head().tolist()\n",
      "/var/folders/6g/d16gbw5x5z9fk0rmvxw5z5q80000gn/T/ipykernel_75144/1899875693.py:5: UserWarning: Boolean Series key will be reindexed to match DataFrame index.\n",
      "  return sampled_valid_reviews[sampled_valid_reviews['label'] == rating_id][sampled_valid_reviews['text'].str.len() < 250].apply(summarize, axis=1).head().tolist()\n",
      "/var/folders/6g/d16gbw5x5z9fk0rmvxw5z5q80000gn/T/ipykernel_75144/1899875693.py:5: UserWarning: Boolean Series key will be reindexed to match DataFrame index.\n",
      "  return sampled_valid_reviews[sampled_valid_reviews['label'] == rating_id][sampled_valid_reviews['text'].str.len() < 250].apply(summarize, axis=1).head().tolist()\n"
     ]
    }
   ],
   "source": [
    "def summarize(df_row)-> str:\n",
    "    return f\"Review: {df_row['text']} - Movie: {df_row['movie']}\"\n",
    "\n",
    "def check_rating(rating_id):\n",
    "    return sampled_valid_reviews[sampled_valid_reviews['label'] == rating_id][sampled_valid_reviews['text'].str.len() < 250].apply(summarize, axis=1).head().tolist()\n",
    "\n",
    "def log_sample_for_rating(rating):\n",
    "    id = label2id[rating]\n",
    "    samples = check_rating(id)\n",
    "    print(f\"Samples for rating {rating}:\")\n",
    "    for sample in samples:\n",
    "        print(f' {sample}')\n",
    "    print(\"\\n\")\n",
    "log_sample_for_rating('★★★★★')\n",
    "log_sample_for_rating('★★½')\n",
    "log_sample_for_rating('½')"
   ]
  },
  {
   "cell_type": "code",
   "execution_count": 6,
   "id": "bd44aa18",
   "metadata": {},
   "outputs": [
    {
     "name": "stdout",
     "output_type": "stream",
     "text": [
      "Train set size: 2234\n",
      "Validation set size: 279\n",
      "Test set size: 280\n"
     ]
    }
   ],
   "source": [
    "# save the sampled reviews to a new CSV file\n",
    "sampled_valid_reviews.to_csv('./letterboxd_250movie_reviews_normalized_sampled.csv', index=False)\n",
    "\n",
    "# divide into training, validation, and test sets\n",
    "train_frac = 0.8\n",
    "val_frac = 0.1\n",
    "test_frac = 0.1\n",
    "train_size = int(len(sampled_valid_reviews) * train_frac)\n",
    "val_size = int(len(sampled_valid_reviews) * val_frac)   \n",
    "test_size = int(len(sampled_valid_reviews) * test_frac)\n",
    "train_set = sampled_valid_reviews[:train_size]\n",
    "val_set = sampled_valid_reviews[train_size:train_size + val_size]\n",
    "test_set = sampled_valid_reviews[train_size + val_size:]\n",
    "print(f\"Train set size: {len(train_set)}\")\n",
    "print(f\"Validation set size: {len(val_set)}\")\n",
    "print(f\"Test set size: {len(test_set)}\")\n",
    "train_set.to_csv('./data/letterboxd_250movie_reviews_train.csv', index=False)\n",
    "val_set.to_csv('./data/letterboxd_250movie_reviews_val.csv', index=False)\n",
    "test_set.to_csv('./data/letterboxd_250movie_reviews_test.csv', index=False)"
   ]
  }
 ],
 "metadata": {
  "kernelspec": {
   "display_name": "Python 3 (ipykernel)",
   "language": "python",
   "name": "python3"
  },
  "language_info": {
   "codemirror_mode": {
    "name": "ipython",
    "version": 3
   },
   "file_extension": ".py",
   "mimetype": "text/x-python",
   "name": "python",
   "nbconvert_exporter": "python",
   "pygments_lexer": "ipython3",
   "version": "3.13.1"
  }
 },
 "nbformat": 4,
 "nbformat_minor": 5
}
