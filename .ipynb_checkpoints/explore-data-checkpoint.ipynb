{
 "cells": [
  {
   "cell_type": "code",
   "execution_count": 5,
   "id": "313f7147-4436-4b9b-8c80-a79040c547b0",
   "metadata": {},
   "outputs": [
    {
     "data": {
      "text/html": [
       "<div>\n",
       "<style scoped>\n",
       "    .dataframe tbody tr th:only-of-type {\n",
       "        vertical-align: middle;\n",
       "    }\n",
       "\n",
       "    .dataframe tbody tr th {\n",
       "        vertical-align: top;\n",
       "    }\n",
       "\n",
       "    .dataframe thead th {\n",
       "        text-align: right;\n",
       "    }\n",
       "</style>\n",
       "<table border=\"1\" class=\"dataframe\">\n",
       "  <thead>\n",
       "    <tr style=\"text-align: right;\">\n",
       "      <th></th>\n",
       "      <th>Unnamed: 0</th>\n",
       "      <th>Review</th>\n",
       "      <th>Rating</th>\n",
       "      <th>Date</th>\n",
       "      <th>Status</th>\n",
       "      <th>Movie</th>\n",
       "    </tr>\n",
       "  </thead>\n",
       "  <tbody>\n",
       "    <tr>\n",
       "      <th>0</th>\n",
       "      <td>0</td>\n",
       "      <td>I am an idiot. Why is it that I still dread wa...</td>\n",
       "      <td>★★★★★</td>\n",
       "      <td>01 Dec 2013</td>\n",
       "      <td>Watched</td>\n",
       "      <td>harakiri</td>\n",
       "    </tr>\n",
       "    <tr>\n",
       "      <th>1</th>\n",
       "      <td>1</td>\n",
       "      <td>honor in the individual is virtue honor in a s...</td>\n",
       "      <td>★★★★★</td>\n",
       "      <td>18 Jan 2022</td>\n",
       "      <td>NaN</td>\n",
       "      <td>harakiri</td>\n",
       "    </tr>\n",
       "    <tr>\n",
       "      <th>2</th>\n",
       "      <td>2</td>\n",
       "      <td>Brilliant. Riveting exploration of mortality a...</td>\n",
       "      <td>NaN</td>\n",
       "      <td>26 Jan 2024</td>\n",
       "      <td>Watched</td>\n",
       "      <td>harakiri</td>\n",
       "    </tr>\n",
       "    <tr>\n",
       "      <th>3</th>\n",
       "      <td>3</td>\n",
       "      <td>God damn what an impeccable film. Not dated in...</td>\n",
       "      <td>★★★★★</td>\n",
       "      <td>21 Jun 2021</td>\n",
       "      <td>Watched</td>\n",
       "      <td>harakiri</td>\n",
       "    </tr>\n",
       "    <tr>\n",
       "      <th>4</th>\n",
       "      <td>4</td>\n",
       "      <td>95First thing's first: giving a big thanks to ...</td>\n",
       "      <td>★★★★★</td>\n",
       "      <td>06 Sep 2020</td>\n",
       "      <td>Watched</td>\n",
       "      <td>harakiri</td>\n",
       "    </tr>\n",
       "  </tbody>\n",
       "</table>\n",
       "</div>"
      ],
      "text/plain": [
       "   Unnamed: 0                                             Review Rating  \\\n",
       "0           0  I am an idiot. Why is it that I still dread wa...  ★★★★★   \n",
       "1           1  honor in the individual is virtue honor in a s...  ★★★★★   \n",
       "2           2  Brilliant. Riveting exploration of mortality a...    NaN   \n",
       "3           3  God damn what an impeccable film. Not dated in...  ★★★★★   \n",
       "4           4  95First thing's first: giving a big thanks to ...  ★★★★★   \n",
       "\n",
       "          Date   Status     Movie  \n",
       "0  01 Dec 2013  Watched  harakiri  \n",
       "1  18 Jan 2022      NaN  harakiri  \n",
       "2  26 Jan 2024  Watched  harakiri  \n",
       "3  21 Jun 2021  Watched  harakiri  \n",
       "4  06 Sep 2020  Watched  harakiri  "
      ]
     },
     "execution_count": 5,
     "metadata": {},
     "output_type": "execute_result"
    }
   ],
   "source": [
    "import pandas as pd\n",
    "\n",
    "reviews_raw = pd.read_csv(\"./data/letterboxd_250movie_reviews.csv\")\n",
    "\n",
    "reviews_raw.head()"
   ]
  },
  {
   "cell_type": "raw",
   "id": "d124e49a-0d5c-4da1-a9e0-1d3d6427bd60",
   "metadata": {},
   "source": [
    "reviews_raw.describe()"
   ]
  },
  {
   "cell_type": "code",
   "execution_count": null,
   "id": "1da4b13d-3184-4d70-87f7-2cdf86677154",
   "metadata": {},
   "outputs": [],
   "source": [
    "reviews_raw.filte"
   ]
  }
 ],
 "metadata": {
  "kernelspec": {
   "display_name": "Python 3 (ipykernel)",
   "language": "python",
   "name": "python3"
  },
  "language_info": {
   "codemirror_mode": {
    "name": "ipython",
    "version": 3
   },
   "file_extension": ".py",
   "mimetype": "text/x-python",
   "name": "python",
   "nbconvert_exporter": "python",
   "pygments_lexer": "ipython3",
   "version": "3.13.1"
  }
 },
 "nbformat": 4,
 "nbformat_minor": 5
}
